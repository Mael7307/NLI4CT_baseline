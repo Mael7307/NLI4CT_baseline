{
 "cells": [
  {
   "cell_type": "code",
   "execution_count": 1,
   "metadata": {},
   "outputs": [],
   "source": [
    "import pandas as pd\n",
    "import numpy as np\n",
    "import json"
   ]
  },
  {
   "cell_type": "code",
   "execution_count": 2,
   "metadata": {},
   "outputs": [
    {
     "data": {
      "text/html": [
       "<div>\n",
       "<style scoped>\n",
       "    .dataframe tbody tr th:only-of-type {\n",
       "        vertical-align: middle;\n",
       "    }\n",
       "\n",
       "    .dataframe tbody tr th {\n",
       "        vertical-align: top;\n",
       "    }\n",
       "\n",
       "    .dataframe thead th {\n",
       "        text-align: right;\n",
       "    }\n",
       "</style>\n",
       "<table border=\"1\" class=\"dataframe\">\n",
       "  <thead>\n",
       "    <tr style=\"text-align: right;\">\n",
       "      <th></th>\n",
       "      <th>hypothesis</th>\n",
       "      <th>evidences</th>\n",
       "      <th>label</th>\n",
       "    </tr>\n",
       "  </thead>\n",
       "  <tbody>\n",
       "    <tr>\n",
       "      <th>0</th>\n",
       "      <td>there is a 13.2% difference between the result...</td>\n",
       "      <td>[\"Outcome Measurement: \", \"  Event-free Surviv...</td>\n",
       "      <td>Contradiction</td>\n",
       "    </tr>\n",
       "    <tr>\n",
       "      <th>1</th>\n",
       "      <td>Patients with significantly elevated ejection ...</td>\n",
       "      <td>[\"  Cardiac left ventricular function with res...</td>\n",
       "      <td>Contradiction</td>\n",
       "    </tr>\n",
       "    <tr>\n",
       "      <th>2</th>\n",
       "      <td>a significant number of the participants in th...</td>\n",
       "      <td>[\"  Enterocolitis 1/167 (0.60%)\", \"  Enterocol...</td>\n",
       "      <td>Contradiction</td>\n",
       "    </tr>\n",
       "    <tr>\n",
       "      <th>3</th>\n",
       "      <td>the primary trial does not report the PFS or o...</td>\n",
       "      <td>[\"Outcome Measurement: \", \"  Local Control Usi...</td>\n",
       "      <td>Entailment</td>\n",
       "    </tr>\n",
       "    <tr>\n",
       "      <th>4</th>\n",
       "      <td>Prior treatment with fulvestrant or with a pho...</td>\n",
       "      <td>[\"  Prior treatment with a phosphatidylinosito...</td>\n",
       "      <td>Contradiction</td>\n",
       "    </tr>\n",
       "    <tr>\n",
       "      <th>...</th>\n",
       "      <td>...</td>\n",
       "      <td>...</td>\n",
       "      <td>...</td>\n",
       "    </tr>\n",
       "    <tr>\n",
       "      <th>195</th>\n",
       "      <td>The the primary trial intervention involves on...</td>\n",
       "      <td>[\"INTERVENTION 1: \", \"  Letrozole\", \"  Partici...</td>\n",
       "      <td>Contradiction</td>\n",
       "    </tr>\n",
       "    <tr>\n",
       "      <th>196</th>\n",
       "      <td>the secondary trial reported 1 single case of ...</td>\n",
       "      <td>[\"Adverse Events 1:\", \"  Total: 16/48 (33.33%)...</td>\n",
       "      <td>Entailment</td>\n",
       "    </tr>\n",
       "    <tr>\n",
       "      <th>197</th>\n",
       "      <td>the secondary trial and the primary trial do n...</td>\n",
       "      <td>[\"Outcome Measurement: \", \"  Number of Patient...</td>\n",
       "      <td>Entailment</td>\n",
       "    </tr>\n",
       "    <tr>\n",
       "      <th>198</th>\n",
       "      <td>the outcome measurement of the primary trial i...</td>\n",
       "      <td>[\"Outcome Measurement: \", \"  Progression-free ...</td>\n",
       "      <td>Entailment</td>\n",
       "    </tr>\n",
       "    <tr>\n",
       "      <th>199</th>\n",
       "      <td>All the primary trial patients had a minimum o...</td>\n",
       "      <td>[\"Outcome Measurement: \", \"  Complete Response...</td>\n",
       "      <td>Contradiction</td>\n",
       "    </tr>\n",
       "  </tbody>\n",
       "</table>\n",
       "<p>200 rows × 3 columns</p>\n",
       "</div>"
      ],
      "text/plain": [
       "                                            hypothesis  \\\n",
       "0    there is a 13.2% difference between the result...   \n",
       "1    Patients with significantly elevated ejection ...   \n",
       "2    a significant number of the participants in th...   \n",
       "3    the primary trial does not report the PFS or o...   \n",
       "4    Prior treatment with fulvestrant or with a pho...   \n",
       "..                                                 ...   \n",
       "195  The the primary trial intervention involves on...   \n",
       "196  the secondary trial reported 1 single case of ...   \n",
       "197  the secondary trial and the primary trial do n...   \n",
       "198  the outcome measurement of the primary trial i...   \n",
       "199  All the primary trial patients had a minimum o...   \n",
       "\n",
       "                                             evidences          label  \n",
       "0    [\"Outcome Measurement: \", \"  Event-free Surviv...  Contradiction  \n",
       "1    [\"  Cardiac left ventricular function with res...  Contradiction  \n",
       "2    [\"  Enterocolitis 1/167 (0.60%)\", \"  Enterocol...  Contradiction  \n",
       "3    [\"Outcome Measurement: \", \"  Local Control Usi...     Entailment  \n",
       "4    [\"  Prior treatment with a phosphatidylinosito...  Contradiction  \n",
       "..                                                 ...            ...  \n",
       "195  [\"INTERVENTION 1: \", \"  Letrozole\", \"  Partici...  Contradiction  \n",
       "196  [\"Adverse Events 1:\", \"  Total: 16/48 (33.33%)...     Entailment  \n",
       "197  [\"Outcome Measurement: \", \"  Number of Patient...     Entailment  \n",
       "198  [\"Outcome Measurement: \", \"  Progression-free ...     Entailment  \n",
       "199  [\"Outcome Measurement: \", \"  Complete Response...  Contradiction  \n",
       "\n",
       "[200 rows x 3 columns]"
      ]
     },
     "execution_count": 2,
     "metadata": {},
     "output_type": "execute_result"
    }
   ],
   "source": [
    "dev_df=pd.read_csv('./output/dev_hypothesis_evidences.csv')\n",
    "dev_df"
   ]
  },
  {
   "cell_type": "code",
   "execution_count": null,
   "metadata": {},
   "outputs": [],
   "source": []
  },
  {
   "cell_type": "code",
   "execution_count": 3,
   "metadata": {},
   "outputs": [
    {
     "data": {
      "text/plain": [
       "200"
      ]
     },
     "execution_count": 3,
     "metadata": {},
     "output_type": "execute_result"
    }
   ],
   "source": [
    "hypothesis_lst=dev_df['hypothesis'].values.tolist()\n",
    "len(hypothesis_lst)"
   ]
  },
  {
   "cell_type": "code",
   "execution_count": 4,
   "metadata": {},
   "outputs": [
    {
     "data": {
      "text/plain": [
       "200"
      ]
     },
     "execution_count": 4,
     "metadata": {},
     "output_type": "execute_result"
    }
   ],
   "source": [
    "evidence_lst=dev_df['evidences'].apply(lambda l:' '.join(json.loads(l))).values.tolist()\n",
    "len(evidence_lst)"
   ]
  },
  {
   "cell_type": "code",
   "execution_count": 5,
   "metadata": {},
   "outputs": [
    {
     "data": {
      "text/plain": [
       "200"
      ]
     },
     "execution_count": 5,
     "metadata": {},
     "output_type": "execute_result"
    }
   ],
   "source": [
    "label2id={\"Contradiction\":0,\"Entailment\":1}\n",
    "label_lst=dev_df['label'].apply(lambda x:label2id[x]).values.tolist()\n",
    "len(label_lst)"
   ]
  },
  {
   "cell_type": "code",
   "execution_count": null,
   "metadata": {},
   "outputs": [],
   "source": []
  },
  {
   "cell_type": "code",
   "execution_count": null,
   "metadata": {},
   "outputs": [],
   "source": []
  },
  {
   "cell_type": "code",
   "execution_count": null,
   "metadata": {},
   "outputs": [],
   "source": []
  },
  {
   "cell_type": "code",
   "execution_count": 6,
   "metadata": {},
   "outputs": [],
   "source": [
    "import json\n",
    "with open('output/all_evidences.json','r') as f:\n",
    "    all_evidences = json.load(f)\n",
    "evidence2id=dict([(all_evidences[i],i) for i in range(len(all_evidences))])\n",
    "\n",
    "from nltk.tokenize import word_tokenize\n",
    "tokenized_corpus = [word_tokenize(doc) for doc in all_evidences]\n",
    "\n",
    "from rank_bm25 import BM25Okapi\n",
    "bm25 = BM25Okapi(tokenized_corpus)"
   ]
  },
  {
   "cell_type": "code",
   "execution_count": null,
   "metadata": {},
   "outputs": [],
   "source": []
  },
  {
   "cell_type": "code",
   "execution_count": 7,
   "metadata": {},
   "outputs": [],
   "source": [
    "import numpy as np\n",
    "scores=[]\n",
    "for hypothesis,evidences in dev_df[['hypothesis','evidences']].values:\n",
    "    doc_scores = bm25.get_scores(word_tokenize(hypothesis))\n",
    "    doc_scores = (doc_scores-np.min(doc_scores))/(np.max(doc_scores)-np.min(doc_scores))\n",
    "    scores.append(np.mean([doc_scores[evidence2id[evi]] for evi in json.loads(evidences)]))\n",
    "# scores"
   ]
  },
  {
   "cell_type": "code",
   "execution_count": null,
   "metadata": {},
   "outputs": [],
   "source": []
  },
  {
   "cell_type": "code",
   "execution_count": 8,
   "metadata": {},
   "outputs": [
    {
     "data": {
      "text/html": [
       "<div>\n",
       "<style scoped>\n",
       "    .dataframe tbody tr th:only-of-type {\n",
       "        vertical-align: middle;\n",
       "    }\n",
       "\n",
       "    .dataframe tbody tr th {\n",
       "        vertical-align: top;\n",
       "    }\n",
       "\n",
       "    .dataframe thead th {\n",
       "        text-align: right;\n",
       "    }\n",
       "</style>\n",
       "<table border=\"1\" class=\"dataframe\">\n",
       "  <thead>\n",
       "    <tr style=\"text-align: right;\">\n",
       "      <th></th>\n",
       "      <th>threshold</th>\n",
       "      <th>AVG_PREC</th>\n",
       "      <th>F1</th>\n",
       "      <th>PREC</th>\n",
       "      <th>REC</th>\n",
       "      <th>ACC</th>\n",
       "    </tr>\n",
       "  </thead>\n",
       "  <tbody>\n",
       "    <tr>\n",
       "      <th>0</th>\n",
       "      <td>0.0</td>\n",
       "      <td>0.512983</td>\n",
       "      <td>0.635036</td>\n",
       "      <td>0.500000</td>\n",
       "      <td>0.87</td>\n",
       "      <td>0.500</td>\n",
       "    </tr>\n",
       "    <tr>\n",
       "      <th>1</th>\n",
       "      <td>0.1</td>\n",
       "      <td>0.512983</td>\n",
       "      <td>0.557522</td>\n",
       "      <td>0.500000</td>\n",
       "      <td>0.63</td>\n",
       "      <td>0.500</td>\n",
       "    </tr>\n",
       "    <tr>\n",
       "      <th>2</th>\n",
       "      <td>0.2</td>\n",
       "      <td>0.512983</td>\n",
       "      <td>0.388235</td>\n",
       "      <td>0.471429</td>\n",
       "      <td>0.33</td>\n",
       "      <td>0.480</td>\n",
       "    </tr>\n",
       "    <tr>\n",
       "      <th>3</th>\n",
       "      <td>0.3</td>\n",
       "      <td>0.512983</td>\n",
       "      <td>0.320000</td>\n",
       "      <td>0.480000</td>\n",
       "      <td>0.24</td>\n",
       "      <td>0.490</td>\n",
       "    </tr>\n",
       "    <tr>\n",
       "      <th>4</th>\n",
       "      <td>0.4</td>\n",
       "      <td>0.512983</td>\n",
       "      <td>0.283582</td>\n",
       "      <td>0.558824</td>\n",
       "      <td>0.19</td>\n",
       "      <td>0.520</td>\n",
       "    </tr>\n",
       "    <tr>\n",
       "      <th>5</th>\n",
       "      <td>0.5</td>\n",
       "      <td>0.512983</td>\n",
       "      <td>0.209677</td>\n",
       "      <td>0.541667</td>\n",
       "      <td>0.13</td>\n",
       "      <td>0.510</td>\n",
       "    </tr>\n",
       "    <tr>\n",
       "      <th>6</th>\n",
       "      <td>0.6</td>\n",
       "      <td>0.512983</td>\n",
       "      <td>0.184874</td>\n",
       "      <td>0.578947</td>\n",
       "      <td>0.11</td>\n",
       "      <td>0.515</td>\n",
       "    </tr>\n",
       "    <tr>\n",
       "      <th>7</th>\n",
       "      <td>0.7</td>\n",
       "      <td>0.512983</td>\n",
       "      <td>0.123894</td>\n",
       "      <td>0.538462</td>\n",
       "      <td>0.07</td>\n",
       "      <td>0.505</td>\n",
       "    </tr>\n",
       "    <tr>\n",
       "      <th>8</th>\n",
       "      <td>0.8</td>\n",
       "      <td>0.512983</td>\n",
       "      <td>0.093458</td>\n",
       "      <td>0.714286</td>\n",
       "      <td>0.05</td>\n",
       "      <td>0.515</td>\n",
       "    </tr>\n",
       "    <tr>\n",
       "      <th>9</th>\n",
       "      <td>0.9</td>\n",
       "      <td>0.512983</td>\n",
       "      <td>0.057143</td>\n",
       "      <td>0.600000</td>\n",
       "      <td>0.03</td>\n",
       "      <td>0.505</td>\n",
       "    </tr>\n",
       "  </tbody>\n",
       "</table>\n",
       "</div>"
      ],
      "text/plain": [
       "   threshold  AVG_PREC        F1      PREC   REC    ACC\n",
       "0        0.0  0.512983  0.635036  0.500000  0.87  0.500\n",
       "1        0.1  0.512983  0.557522  0.500000  0.63  0.500\n",
       "2        0.2  0.512983  0.388235  0.471429  0.33  0.480\n",
       "3        0.3  0.512983  0.320000  0.480000  0.24  0.490\n",
       "4        0.4  0.512983  0.283582  0.558824  0.19  0.520\n",
       "5        0.5  0.512983  0.209677  0.541667  0.13  0.510\n",
       "6        0.6  0.512983  0.184874  0.578947  0.11  0.515\n",
       "7        0.7  0.512983  0.123894  0.538462  0.07  0.505\n",
       "8        0.8  0.512983  0.093458  0.714286  0.05  0.515\n",
       "9        0.9  0.512983  0.057143  0.600000  0.03  0.505"
      ]
     },
     "execution_count": 8,
     "metadata": {},
     "output_type": "execute_result"
    }
   ],
   "source": [
    "from sklearn.metrics import average_precision_score,f1_score,precision_score,recall_score,accuracy_score\n",
    "\n",
    "y_true=label_lst\n",
    "results=[]\n",
    "for thre in np.arange(0.0, 1.0, 0.1):\n",
    "    y_prob=scores\n",
    "    y_pred=[1 if a>thre else 0 for a in y_prob]\n",
    "    results.append([\n",
    "        thre,\n",
    "        average_precision_score(y_true,y_prob),\n",
    "        f1_score(y_true,y_pred),\n",
    "        precision_score(y_true,y_pred),\n",
    "        recall_score(y_true,y_pred),\n",
    "        accuracy_score(y_true,y_pred)\n",
    "    ])\n",
    "\n",
    "import pandas as pd\n",
    "\n",
    "pd.DataFrame(results,columns=['threshold','AVG_PREC','F1','PREC','REC','ACC'])"
   ]
  },
  {
   "cell_type": "code",
   "execution_count": null,
   "metadata": {},
   "outputs": [],
   "source": []
  }
 ],
 "metadata": {
  "kernelspec": {
   "display_name": "Python 3",
   "language": "python",
   "name": "python3"
  },
  "language_info": {
   "codemirror_mode": {
    "name": "ipython",
    "version": 3
   },
   "file_extension": ".py",
   "mimetype": "text/x-python",
   "name": "python",
   "nbconvert_exporter": "python",
   "pygments_lexer": "ipython3",
   "version": "3.8.5"
  }
 },
 "nbformat": 4,
 "nbformat_minor": 5
}
