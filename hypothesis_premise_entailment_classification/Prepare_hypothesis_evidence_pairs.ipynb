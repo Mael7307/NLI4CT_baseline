{
 "cells": [
  {
   "cell_type": "code",
   "execution_count": 1,
   "metadata": {},
   "outputs": [],
   "source": [
    "import json\n",
    "from os.path import isfile\n",
    "\n",
    "hypothesis_evidence_lst=[]\n",
    "with open('../data/Training_data/train.json','r') as f:\n",
    "    train_json=json.load(f)\n",
    "    for k in train_json:\n",
    "        line=train_json[k]\n",
    "#         if isfile('../data/Training_data/CT json/{}.json'.format(line['Primary_id'])):\n",
    "        premises=json.load(open('../data/Training_data/CT json/{}.json'.format(line['Primary_id'])))\n",
    "        hypothesis_evidence_lst.append([\n",
    "            line['Statement'],\n",
    "            json.dumps([premises[line['Section_id']][idx] for idx in line['Primary_evidence_index']]),\n",
    "            line['Label']\n",
    "        ])\n",
    "        if 'Secondary_id' in line:\n",
    "            premises=json.load(open('../data/Training_data/CT json/{}.json'.format(line['Secondary_id'])))\n",
    "            hypothesis_evidence_lst[-1][1]=json.dumps(\n",
    "                json.loads(hypothesis_evidence_lst[-1][1])+[premises[line['Section_id']][idx] for idx in line['Secondary_evidence_index']]\n",
    "            )"
   ]
  },
  {
   "cell_type": "code",
   "execution_count": 2,
   "metadata": {},
   "outputs": [
    {
     "data": {
      "text/plain": [
       "1700"
      ]
     },
     "execution_count": 2,
     "metadata": {},
     "output_type": "execute_result"
    }
   ],
   "source": [
    "len(hypothesis_evidence_lst)"
   ]
  },
  {
   "cell_type": "code",
   "execution_count": 3,
   "metadata": {},
   "outputs": [
    {
     "data": {
      "text/plain": [
       "[['All the primary trial participants do not receive any oral capecitabine, oral lapatinib ditosylate or cixutumumab IV, in conrast all the secondary trial subjects receive these.',\n",
       "  '[\"INTERVENTION 1: \", \"  Diagnostic (FLT PET)\", \"  Patients with early stage, ER positive primary breast cancer undergo FLT PET scan at baseline and 1-6 weeks after the start of standard endocrine treatment. The surgery follows 1-7 days after the second FLT PET scan.\", \"  Tracer used in the FLT PET (positron emission tomography) scanning procedure: [F18] fluorothymidine.\", \"  Positron Emission Tomography: Undergo FLT PET\", \"  Laboratory Biomarker Analysis: Correlative studies - Ki67 staining of the tumor tissue in the biopsy and surgical specimen.\", \"INTERVENTION 1: \", \"  Arm A\", \"  Patients receive oral capecitabine twice daily on days 1-14 and oral lapatinib ditosylate once daily on days 1-21. Courses repeat every 21 days in the absence of disease progression or unacceptable toxicity. lapatinib ditosylate: Given PO and capecitabine: Given PO\", \"INTERVENTION 2: \", \"  Arm B\", \"  Patients receive capecitabine and lapatinib ditosylate as in arm I. Patients also receive cixutumumab IV over 1-1\\\\u00bd hours on days 1, 8, and 15. Courses repeat every 21 days in the absence of disease progression or unacceptable toxicity. cixutumumab: Given IV, lapatinib ditosylate: Given PO and capecitabine: Given PO\"]',\n",
       "  'Contradiction'],\n",
       " ['Patients with Platelet count over 100,000/mm¬¨‚â•, ANC <  1,700/mm¬¨‚â• and Hemoglobin between 4 to 5 grams per deciliter are eligible for the primary trial.',\n",
       "  '[\"  PATIENT CHARACTERISTICS:\", \"  ANC  1,500/mm\\\\u00b3\", \"  Platelet count  100,000/mm\\\\u00b3\", \"  Hemoglobin  9.0 g/dL\"]',\n",
       "  'Contradiction'],\n",
       " ['Heart-related adverse events were recorded in both the primary trial and the secondary trial.',\n",
       "  '[\"Adverse Events 1:\", \"  Supraventricular tachycardia 1/32 (3.13%)\", \"Adverse Events 1:\", \"  Atrial fibrillation 1/752 (0.13%)\", \"  Atrial flutter 0/752 (0.00%)\", \"  Cardiac failure congestive 1/752 (0.13%)\", \"  Left ventricular dysfunction 0/752 (0.00%)\"]',\n",
       "  'Entailment']]"
      ]
     },
     "execution_count": 3,
     "metadata": {},
     "output_type": "execute_result"
    }
   ],
   "source": [
    "hypothesis_evidence_lst[:3]"
   ]
  },
  {
   "cell_type": "code",
   "execution_count": null,
   "metadata": {},
   "outputs": [],
   "source": []
  },
  {
   "cell_type": "code",
   "execution_count": 4,
   "metadata": {},
   "outputs": [
    {
     "data": {
      "text/html": [
       "<div>\n",
       "<style scoped>\n",
       "    .dataframe tbody tr th:only-of-type {\n",
       "        vertical-align: middle;\n",
       "    }\n",
       "\n",
       "    .dataframe tbody tr th {\n",
       "        vertical-align: top;\n",
       "    }\n",
       "\n",
       "    .dataframe thead th {\n",
       "        text-align: right;\n",
       "    }\n",
       "</style>\n",
       "<table border=\"1\" class=\"dataframe\">\n",
       "  <thead>\n",
       "    <tr style=\"text-align: right;\">\n",
       "      <th></th>\n",
       "      <th>hypothesis</th>\n",
       "      <th>evidences</th>\n",
       "      <th>label</th>\n",
       "    </tr>\n",
       "  </thead>\n",
       "  <tbody>\n",
       "    <tr>\n",
       "      <th>0</th>\n",
       "      <td>All the primary trial participants do not rece...</td>\n",
       "      <td>[\"INTERVENTION 1: \", \"  Diagnostic (FLT PET)\",...</td>\n",
       "      <td>Contradiction</td>\n",
       "    </tr>\n",
       "    <tr>\n",
       "      <th>1</th>\n",
       "      <td>Patients with Platelet count over 100,000/mm¬¨...</td>\n",
       "      <td>[\"  PATIENT CHARACTERISTICS:\", \"  ANC  1,500/m...</td>\n",
       "      <td>Contradiction</td>\n",
       "    </tr>\n",
       "    <tr>\n",
       "      <th>2</th>\n",
       "      <td>Heart-related adverse events were recorded in ...</td>\n",
       "      <td>[\"Adverse Events 1:\", \"  Supraventricular tach...</td>\n",
       "      <td>Entailment</td>\n",
       "    </tr>\n",
       "    <tr>\n",
       "      <th>3</th>\n",
       "      <td>Adult Patients with histologic confirmation of...</td>\n",
       "      <td>[\"Inclusion Criteria:\", \"  Patients with histo...</td>\n",
       "      <td>Contradiction</td>\n",
       "    </tr>\n",
       "    <tr>\n",
       "      <th>4</th>\n",
       "      <td>Laser Therapy is in each cohort of the primary...</td>\n",
       "      <td>[\"INTERVENTION 1: \", \"  Laser Therapy Alone\", ...</td>\n",
       "      <td>Contradiction</td>\n",
       "    </tr>\n",
       "    <tr>\n",
       "      <th>...</th>\n",
       "      <td>...</td>\n",
       "      <td>...</td>\n",
       "      <td>...</td>\n",
       "    </tr>\n",
       "    <tr>\n",
       "      <th>1695</th>\n",
       "      <td>Adequate blood, kidney, and hepatic function a...</td>\n",
       "      <td>[\"Inclusion Criteria:\", \"  Postmenopausal wome...</td>\n",
       "      <td>Entailment</td>\n",
       "    </tr>\n",
       "    <tr>\n",
       "      <th>1696</th>\n",
       "      <td>The Ridaforolimus + Dalotuzumab + Exemestane g...</td>\n",
       "      <td>[\"Outcome Measurement: \", \"  1. Progression-fr...</td>\n",
       "      <td>Contradiction</td>\n",
       "    </tr>\n",
       "    <tr>\n",
       "      <th>1697</th>\n",
       "      <td>The only difference between the interventions ...</td>\n",
       "      <td>[\"INTERVENTION 1: \", \"  Prone\", \"Prone positio...</td>\n",
       "      <td>Entailment</td>\n",
       "    </tr>\n",
       "    <tr>\n",
       "      <th>1698</th>\n",
       "      <td>Patients must have a white blood cell count ab...</td>\n",
       "      <td>[\"  WBC &gt; 1,500/mm\\u00b3\"]</td>\n",
       "      <td>Entailment</td>\n",
       "    </tr>\n",
       "    <tr>\n",
       "      <th>1699</th>\n",
       "      <td>the primary trial and the secondary trial both...</td>\n",
       "      <td>[\"Outcome Measurement: \", \"  Central Nervous S...</td>\n",
       "      <td>Contradiction</td>\n",
       "    </tr>\n",
       "  </tbody>\n",
       "</table>\n",
       "<p>1700 rows × 3 columns</p>\n",
       "</div>"
      ],
      "text/plain": [
       "                                             hypothesis  \\\n",
       "0     All the primary trial participants do not rece...   \n",
       "1     Patients with Platelet count over 100,000/mm¬¨...   \n",
       "2     Heart-related adverse events were recorded in ...   \n",
       "3     Adult Patients with histologic confirmation of...   \n",
       "4     Laser Therapy is in each cohort of the primary...   \n",
       "...                                                 ...   \n",
       "1695  Adequate blood, kidney, and hepatic function a...   \n",
       "1696  The Ridaforolimus + Dalotuzumab + Exemestane g...   \n",
       "1697  The only difference between the interventions ...   \n",
       "1698  Patients must have a white blood cell count ab...   \n",
       "1699  the primary trial and the secondary trial both...   \n",
       "\n",
       "                                              evidences          label  \n",
       "0     [\"INTERVENTION 1: \", \"  Diagnostic (FLT PET)\",...  Contradiction  \n",
       "1     [\"  PATIENT CHARACTERISTICS:\", \"  ANC  1,500/m...  Contradiction  \n",
       "2     [\"Adverse Events 1:\", \"  Supraventricular tach...     Entailment  \n",
       "3     [\"Inclusion Criteria:\", \"  Patients with histo...  Contradiction  \n",
       "4     [\"INTERVENTION 1: \", \"  Laser Therapy Alone\", ...  Contradiction  \n",
       "...                                                 ...            ...  \n",
       "1695  [\"Inclusion Criteria:\", \"  Postmenopausal wome...     Entailment  \n",
       "1696  [\"Outcome Measurement: \", \"  1. Progression-fr...  Contradiction  \n",
       "1697  [\"INTERVENTION 1: \", \"  Prone\", \"Prone positio...     Entailment  \n",
       "1698                         [\"  WBC > 1,500/mm\\u00b3\"]     Entailment  \n",
       "1699  [\"Outcome Measurement: \", \"  Central Nervous S...  Contradiction  \n",
       "\n",
       "[1700 rows x 3 columns]"
      ]
     },
     "execution_count": 4,
     "metadata": {},
     "output_type": "execute_result"
    }
   ],
   "source": [
    "import pandas as pd\n",
    "\n",
    "train_df=pd.DataFrame(hypothesis_evidence_lst,columns=['hypothesis','evidences','label'])\n",
    "train_df"
   ]
  },
  {
   "cell_type": "code",
   "execution_count": 5,
   "metadata": {},
   "outputs": [
    {
     "data": {
      "text/plain": [
       "<AxesSubplot:>"
      ]
     },
     "execution_count": 5,
     "metadata": {},
     "output_type": "execute_result"
    },
    {
     "data": {
      "image/png": "[encoded data removed]",
      "text/plain": [
       "<Figure size 432x288 with 1 Axes>"
      ]
     },
     "metadata": {
      "needs_background": "light"
     },
     "output_type": "display_data"
    }
   ],
   "source": [
    "train_df.evidences.apply(lambda l:len(json.loads(l))).hist(bins=30)"
   ]
  },
  {
   "cell_type": "code",
   "execution_count": 6,
   "metadata": {},
   "outputs": [
    {
     "data": {
      "text/plain": [
       "<AxesSubplot:>"
      ]
     },
     "execution_count": 6,
     "metadata": {},
     "output_type": "execute_result"
    },
    {
     "data": {
      "image/png": "[encoded data removed]",
      "text/plain": [
       "<Figure size 432x288 with 1 Axes>"
      ]
     },
     "metadata": {
      "needs_background": "light"
     },
     "output_type": "display_data"
    }
   ],
   "source": [
    "train_df.evidences.apply(lambda l:len(' '.join(json.loads(l)).split(' '))).hist(bins=30)"
   ]
  },
  {
   "cell_type": "code",
   "execution_count": null,
   "metadata": {},
   "outputs": [],
   "source": []
  },
  {
   "cell_type": "code",
   "execution_count": null,
   "metadata": {},
   "outputs": [],
   "source": []
  },
  {
   "cell_type": "code",
   "execution_count": 7,
   "metadata": {},
   "outputs": [],
   "source": [
    "import json\n",
    "from os.path import isfile\n",
    "\n",
    "hypothesis_evidence_lst=[]\n",
    "with open('../data/Training_data/dev.json','r') as f:\n",
    "    train_json=json.load(f)\n",
    "    for k in train_json:\n",
    "        line=train_json[k]\n",
    "#         if isfile('../data/Training_data/CT json/{}.json'.format(line['Primary_id'])):\n",
    "        premises=json.load(open('../data/Training_data/CT json/{}.json'.format(line['Primary_id'])))\n",
    "        hypothesis_evidence_lst.append([\n",
    "            line['Statement'],\n",
    "            json.dumps([premises[line['Section_id']][idx] for idx in line['Primary_evidence_index']]),\n",
    "            line['Label']\n",
    "        ])\n",
    "        if 'Secondary_id' in line:\n",
    "            premises=json.load(open('../data/Training_data/CT json/{}.json'.format(line['Secondary_id'])))\n",
    "            hypothesis_evidence_lst[-1][1]=json.dumps(\n",
    "                json.loads(hypothesis_evidence_lst[-1][1])+[premises[line['Section_id']][idx] for idx in line['Secondary_evidence_index']]\n",
    "            )"
   ]
  },
  {
   "cell_type": "code",
   "execution_count": 8,
   "metadata": {},
   "outputs": [
    {
     "data": {
      "text/html": [
       "<div>\n",
       "<style scoped>\n",
       "    .dataframe tbody tr th:only-of-type {\n",
       "        vertical-align: middle;\n",
       "    }\n",
       "\n",
       "    .dataframe tbody tr th {\n",
       "        vertical-align: top;\n",
       "    }\n",
       "\n",
       "    .dataframe thead th {\n",
       "        text-align: right;\n",
       "    }\n",
       "</style>\n",
       "<table border=\"1\" class=\"dataframe\">\n",
       "  <thead>\n",
       "    <tr style=\"text-align: right;\">\n",
       "      <th></th>\n",
       "      <th>hypothesis</th>\n",
       "      <th>evidences</th>\n",
       "      <th>label</th>\n",
       "    </tr>\n",
       "  </thead>\n",
       "  <tbody>\n",
       "    <tr>\n",
       "      <th>0</th>\n",
       "      <td>there is a 13.2% difference between the result...</td>\n",
       "      <td>[\"Outcome Measurement: \", \"  Event-free Surviv...</td>\n",
       "      <td>Contradiction</td>\n",
       "    </tr>\n",
       "    <tr>\n",
       "      <th>1</th>\n",
       "      <td>Patients with significantly elevated ejection ...</td>\n",
       "      <td>[\"  Cardiac left ventricular function with res...</td>\n",
       "      <td>Contradiction</td>\n",
       "    </tr>\n",
       "    <tr>\n",
       "      <th>2</th>\n",
       "      <td>a significant number of the participants in th...</td>\n",
       "      <td>[\"  Enterocolitis 1/167 (0.60%)\", \"  Enterocol...</td>\n",
       "      <td>Contradiction</td>\n",
       "    </tr>\n",
       "    <tr>\n",
       "      <th>3</th>\n",
       "      <td>the primary trial does not report the PFS or o...</td>\n",
       "      <td>[\"Outcome Measurement: \", \"  Local Control Usi...</td>\n",
       "      <td>Entailment</td>\n",
       "    </tr>\n",
       "    <tr>\n",
       "      <th>4</th>\n",
       "      <td>Prior treatment with fulvestrant or with a pho...</td>\n",
       "      <td>[\"  Prior treatment with a phosphatidylinosito...</td>\n",
       "      <td>Contradiction</td>\n",
       "    </tr>\n",
       "    <tr>\n",
       "      <th>...</th>\n",
       "      <td>...</td>\n",
       "      <td>...</td>\n",
       "      <td>...</td>\n",
       "    </tr>\n",
       "    <tr>\n",
       "      <th>195</th>\n",
       "      <td>The the primary trial intervention involves on...</td>\n",
       "      <td>[\"INTERVENTION 1: \", \"  Letrozole\", \"  Partici...</td>\n",
       "      <td>Contradiction</td>\n",
       "    </tr>\n",
       "    <tr>\n",
       "      <th>196</th>\n",
       "      <td>the secondary trial reported 1 single case of ...</td>\n",
       "      <td>[\"Adverse Events 1:\", \"  Total: 16/48 (33.33%)...</td>\n",
       "      <td>Entailment</td>\n",
       "    </tr>\n",
       "    <tr>\n",
       "      <th>197</th>\n",
       "      <td>the secondary trial and the primary trial do n...</td>\n",
       "      <td>[\"Outcome Measurement: \", \"  Number of Patient...</td>\n",
       "      <td>Entailment</td>\n",
       "    </tr>\n",
       "    <tr>\n",
       "      <th>198</th>\n",
       "      <td>the outcome measurement of the primary trial i...</td>\n",
       "      <td>[\"Outcome Measurement: \", \"  Progression-free ...</td>\n",
       "      <td>Entailment</td>\n",
       "    </tr>\n",
       "    <tr>\n",
       "      <th>199</th>\n",
       "      <td>All the primary trial patients had a minimum o...</td>\n",
       "      <td>[\"Outcome Measurement: \", \"  Complete Response...</td>\n",
       "      <td>Contradiction</td>\n",
       "    </tr>\n",
       "  </tbody>\n",
       "</table>\n",
       "<p>200 rows × 3 columns</p>\n",
       "</div>"
      ],
      "text/plain": [
       "                                            hypothesis  \\\n",
       "0    there is a 13.2% difference between the result...   \n",
       "1    Patients with significantly elevated ejection ...   \n",
       "2    a significant number of the participants in th...   \n",
       "3    the primary trial does not report the PFS or o...   \n",
       "4    Prior treatment with fulvestrant or with a pho...   \n",
       "..                                                 ...   \n",
       "195  The the primary trial intervention involves on...   \n",
       "196  the secondary trial reported 1 single case of ...   \n",
       "197  the secondary trial and the primary trial do n...   \n",
       "198  the outcome measurement of the primary trial i...   \n",
       "199  All the primary trial patients had a minimum o...   \n",
       "\n",
       "                                             evidences          label  \n",
       "0    [\"Outcome Measurement: \", \"  Event-free Surviv...  Contradiction  \n",
       "1    [\"  Cardiac left ventricular function with res...  Contradiction  \n",
       "2    [\"  Enterocolitis 1/167 (0.60%)\", \"  Enterocol...  Contradiction  \n",
       "3    [\"Outcome Measurement: \", \"  Local Control Usi...     Entailment  \n",
       "4    [\"  Prior treatment with a phosphatidylinosito...  Contradiction  \n",
       "..                                                 ...            ...  \n",
       "195  [\"INTERVENTION 1: \", \"  Letrozole\", \"  Partici...  Contradiction  \n",
       "196  [\"Adverse Events 1:\", \"  Total: 16/48 (33.33%)...     Entailment  \n",
       "197  [\"Outcome Measurement: \", \"  Number of Patient...     Entailment  \n",
       "198  [\"Outcome Measurement: \", \"  Progression-free ...     Entailment  \n",
       "199  [\"Outcome Measurement: \", \"  Complete Response...  Contradiction  \n",
       "\n",
       "[200 rows x 3 columns]"
      ]
     },
     "execution_count": 8,
     "metadata": {},
     "output_type": "execute_result"
    }
   ],
   "source": [
    "import pandas as pd\n",
    "\n",
    "dev_df=pd.DataFrame(hypothesis_evidence_lst,columns=['hypothesis','evidences','label'])\n",
    "dev_df"
   ]
  },
  {
   "cell_type": "code",
   "execution_count": null,
   "metadata": {},
   "outputs": [],
   "source": []
  },
  {
   "cell_type": "code",
   "execution_count": 9,
   "metadata": {},
   "outputs": [],
   "source": [
    "import json\n",
    "from os.path import isfile\n",
    "\n",
    "hypothesis_evidence_lst=[]\n",
    "with open('../data/Gold_test.json','r') as f:\n",
    "    train_json=json.load(f)\n",
    "    for k in train_json:\n",
    "        line=train_json[k]\n",
    "#         if isfile('../data/Training_data/CT json/{}.json'.format(line['Primary_id'])):\n",
    "        premises=json.load(open('../data/Training_data/CT json/{}.json'.format(line['Primary_id'])))\n",
    "        hypothesis_evidence_lst.append([\n",
    "            line['Statement'],\n",
    "            json.dumps([premises[line['Section_id']][idx] for idx in line['Primary_evidence_index']]),\n",
    "            line['Label']\n",
    "        ])\n",
    "        if 'Secondary_id' in line:\n",
    "            premises=json.load(open('../data/Training_data/CT json/{}.json'.format(line['Secondary_id'])))\n",
    "            hypothesis_evidence_lst[-1][1]=json.dumps(\n",
    "                json.loads(hypothesis_evidence_lst[-1][1])+[premises[line['Section_id']][idx] for idx in line['Secondary_evidence_index']]\n",
    "            )"
   ]
  },
  {
   "cell_type": "code",
   "execution_count": 10,
   "metadata": {},
   "outputs": [
    {
     "data": {
      "text/html": [
       "<div>\n",
       "<style scoped>\n",
       "    .dataframe tbody tr th:only-of-type {\n",
       "        vertical-align: middle;\n",
       "    }\n",
       "\n",
       "    .dataframe tbody tr th {\n",
       "        vertical-align: top;\n",
       "    }\n",
       "\n",
       "    .dataframe thead th {\n",
       "        text-align: right;\n",
       "    }\n",
       "</style>\n",
       "<table border=\"1\" class=\"dataframe\">\n",
       "  <thead>\n",
       "    <tr style=\"text-align: right;\">\n",
       "      <th></th>\n",
       "      <th>hypothesis</th>\n",
       "      <th>evidences</th>\n",
       "      <th>label</th>\n",
       "    </tr>\n",
       "  </thead>\n",
       "  <tbody>\n",
       "    <tr>\n",
       "      <th>0</th>\n",
       "      <td>Women suffering from both claustrophobia and I...</td>\n",
       "      <td>[\"Exclusion Criteria:\", \"  History of bilatera...</td>\n",
       "      <td>Contradiction</td>\n",
       "    </tr>\n",
       "    <tr>\n",
       "      <th>1</th>\n",
       "      <td>There are no conditions on mental mental healt...</td>\n",
       "      <td>[\"Inclusion Criteria:\", \"  Women 18 years\", \" ...</td>\n",
       "      <td>Entailment</td>\n",
       "    </tr>\n",
       "    <tr>\n",
       "      <th>2</th>\n",
       "      <td>the secondary trial requires patients to be ov...</td>\n",
       "      <td>[\"Inclusion Criteria:\", \"  Patients presenting...</td>\n",
       "      <td>Entailment</td>\n",
       "    </tr>\n",
       "    <tr>\n",
       "      <th>3</th>\n",
       "      <td>Patients currently taking part in the secondar...</td>\n",
       "      <td>[\"  Participation in another clinical trial wi...</td>\n",
       "      <td>Entailment</td>\n",
       "    </tr>\n",
       "    <tr>\n",
       "      <th>4</th>\n",
       "      <td>HER2 + Patients in the primary trial receive t...</td>\n",
       "      <td>[\"INTERVENTION 1: \", \"  Trastuzumab\", \"  Parti...</td>\n",
       "      <td>Contradiction</td>\n",
       "    </tr>\n",
       "    <tr>\n",
       "      <th>...</th>\n",
       "      <td>...</td>\n",
       "      <td>...</td>\n",
       "      <td>...</td>\n",
       "    </tr>\n",
       "    <tr>\n",
       "      <th>495</th>\n",
       "      <td>alcoholic patients are excluded from the prima...</td>\n",
       "      <td>[\"  Be non-smokers (no nicotine use within the...</td>\n",
       "      <td>Contradiction</td>\n",
       "    </tr>\n",
       "    <tr>\n",
       "      <th>496</th>\n",
       "      <td>Patients with a histologically/cytologically c...</td>\n",
       "      <td>[\"  Non-small cell lung cancer\", \"  Small cell...</td>\n",
       "      <td>Entailment</td>\n",
       "    </tr>\n",
       "    <tr>\n",
       "      <th>497</th>\n",
       "      <td>the primary trial treats one of its patient co...</td>\n",
       "      <td>[\"INTERVENTION 1: \", \"  Pregabalin150\", \"  Pat...</td>\n",
       "      <td>Entailment</td>\n",
       "    </tr>\n",
       "    <tr>\n",
       "      <th>498</th>\n",
       "      <td>after a month of TAK-228 Plus Tamoxifen treatm...</td>\n",
       "      <td>[\"Outcome Measurement: \", \"  Ki67 Expression\",...</td>\n",
       "      <td>Contradiction</td>\n",
       "    </tr>\n",
       "    <tr>\n",
       "      <th>499</th>\n",
       "      <td>Patients with a history of severe anaphylactic...</td>\n",
       "      <td>[\"  History of grade 3 or 4 allergic reactions...</td>\n",
       "      <td>Contradiction</td>\n",
       "    </tr>\n",
       "  </tbody>\n",
       "</table>\n",
       "<p>500 rows × 3 columns</p>\n",
       "</div>"
      ],
      "text/plain": [
       "                                            hypothesis  \\\n",
       "0    Women suffering from both claustrophobia and I...   \n",
       "1    There are no conditions on mental mental healt...   \n",
       "2    the secondary trial requires patients to be ov...   \n",
       "3    Patients currently taking part in the secondar...   \n",
       "4    HER2 + Patients in the primary trial receive t...   \n",
       "..                                                 ...   \n",
       "495  alcoholic patients are excluded from the prima...   \n",
       "496  Patients with a histologically/cytologically c...   \n",
       "497  the primary trial treats one of its patient co...   \n",
       "498  after a month of TAK-228 Plus Tamoxifen treatm...   \n",
       "499  Patients with a history of severe anaphylactic...   \n",
       "\n",
       "                                             evidences          label  \n",
       "0    [\"Exclusion Criteria:\", \"  History of bilatera...  Contradiction  \n",
       "1    [\"Inclusion Criteria:\", \"  Women 18 years\", \" ...     Entailment  \n",
       "2    [\"Inclusion Criteria:\", \"  Patients presenting...     Entailment  \n",
       "3    [\"  Participation in another clinical trial wi...     Entailment  \n",
       "4    [\"INTERVENTION 1: \", \"  Trastuzumab\", \"  Parti...  Contradiction  \n",
       "..                                                 ...            ...  \n",
       "495  [\"  Be non-smokers (no nicotine use within the...  Contradiction  \n",
       "496  [\"  Non-small cell lung cancer\", \"  Small cell...     Entailment  \n",
       "497  [\"INTERVENTION 1: \", \"  Pregabalin150\", \"  Pat...     Entailment  \n",
       "498  [\"Outcome Measurement: \", \"  Ki67 Expression\",...  Contradiction  \n",
       "499  [\"  History of grade 3 or 4 allergic reactions...  Contradiction  \n",
       "\n",
       "[500 rows x 3 columns]"
      ]
     },
     "execution_count": 10,
     "metadata": {},
     "output_type": "execute_result"
    }
   ],
   "source": [
    "import pandas as pd\n",
    "\n",
    "test_df=pd.DataFrame(hypothesis_evidence_lst,columns=['hypothesis','evidences','label'])\n",
    "test_df"
   ]
  },
  {
   "cell_type": "code",
   "execution_count": null,
   "metadata": {},
   "outputs": [],
   "source": []
  },
  {
   "cell_type": "code",
   "execution_count": 11,
   "metadata": {},
   "outputs": [
    {
     "data": {
      "text/plain": [
       "(1700, 200, 500)"
      ]
     },
     "execution_count": 11,
     "metadata": {},
     "output_type": "execute_result"
    }
   ],
   "source": [
    "len(train_df),len(dev_df),len(test_df)"
   ]
  },
  {
   "cell_type": "code",
   "execution_count": 12,
   "metadata": {},
   "outputs": [
    {
     "data": {
      "text/plain": [
       "<AxesSubplot:xlabel='label', ylabel='Count'>"
      ]
     },
     "execution_count": 12,
     "metadata": {},
     "output_type": "execute_result"
    },
    {
     "data": {
      "image/png": "[encoded data removed]",
      "text/plain": [
       "<Figure size 432x288 with 1 Axes>"
      ]
     },
     "metadata": {
      "needs_background": "light"
     },
     "output_type": "display_data"
    }
   ],
   "source": [
    "import seaborn as sns\n",
    "sns.histplot(data=train_df, x=\"label\")"
   ]
  },
  {
   "cell_type": "code",
   "execution_count": 13,
   "metadata": {},
   "outputs": [
    {
     "data": {
      "text/plain": [
       "<AxesSubplot:xlabel='label', ylabel='Count'>"
      ]
     },
     "execution_count": 13,
     "metadata": {},
     "output_type": "execute_result"
    },
    {
     "data": {
      "image/png": "[encoded data removed]",
      "text/plain": [
       "<Figure size 432x288 with 1 Axes>"
      ]
     },
     "metadata": {
      "needs_background": "light"
     },
     "output_type": "display_data"
    }
   ],
   "source": [
    "sns.histplot(data=dev_df, x=\"label\")"
   ]
  },
  {
   "cell_type": "code",
   "execution_count": 14,
   "metadata": {},
   "outputs": [
    {
     "data": {
      "text/plain": [
       "<AxesSubplot:xlabel='label', ylabel='Count'>"
      ]
     },
     "execution_count": 14,
     "metadata": {},
     "output_type": "execute_result"
    },
    {
     "data": {
      "image/png": "[encoded data removed]",
      "text/plain": [
       "<Figure size 432x288 with 1 Axes>"
      ]
     },
     "metadata": {
      "needs_background": "light"
     },
     "output_type": "display_data"
    }
   ],
   "source": [
    "sns.histplot(data=test_df, x=\"label\")"
   ]
  },
  {
   "cell_type": "code",
   "execution_count": null,
   "metadata": {},
   "outputs": [],
   "source": []
  },
  {
   "cell_type": "code",
   "execution_count": 15,
   "metadata": {},
   "outputs": [],
   "source": [
    "train_df.to_csv('./output/train_hypothesis_evidences.csv',index=False)"
   ]
  },
  {
   "cell_type": "code",
   "execution_count": 16,
   "metadata": {},
   "outputs": [],
   "source": [
    "dev_df.to_csv('./output/dev_hypothesis_evidences.csv',index=False)"
   ]
  },
  {
   "cell_type": "code",
   "execution_count": 17,
   "metadata": {},
   "outputs": [],
   "source": [
    "test_df.to_csv('./output/test_hypothesis_evidences.csv',index=False)"
   ]
  },
  {
   "cell_type": "code",
   "execution_count": null,
   "metadata": {},
   "outputs": [],
   "source": []
  }
 ],
 "metadata": {
  "kernelspec": {
   "display_name": "Python 3",
   "language": "python",
   "name": "python3"
  },
  "language_info": {
   "codemirror_mode": {
    "name": "ipython",
    "version": 3
   },
   "file_extension": ".py",
   "mimetype": "text/x-python",
   "name": "python",
   "nbconvert_exporter": "python",
   "pygments_lexer": "ipython3",
   "version": "3.8.5"
  }
 },
 "nbformat": 4,
 "nbformat_minor": 4
}
