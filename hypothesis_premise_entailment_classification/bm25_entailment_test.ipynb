{
 "cells": [
  {
   "cell_type": "code",
   "execution_count": 1,
   "metadata": {},
   "outputs": [],
   "source": [
    "import pandas as pd\n",
    "import numpy as np\n",
    "import json"
   ]
  },
  {
   "cell_type": "code",
   "execution_count": 2,
   "metadata": {},
   "outputs": [
    {
     "data": {
      "text/html": [
       "<div>\n",
       "<style scoped>\n",
       "    .dataframe tbody tr th:only-of-type {\n",
       "        vertical-align: middle;\n",
       "    }\n",
       "\n",
       "    .dataframe tbody tr th {\n",
       "        vertical-align: top;\n",
       "    }\n",
       "\n",
       "    .dataframe thead th {\n",
       "        text-align: right;\n",
       "    }\n",
       "</style>\n",
       "<table border=\"1\" class=\"dataframe\">\n",
       "  <thead>\n",
       "    <tr style=\"text-align: right;\">\n",
       "      <th></th>\n",
       "      <th>hypothesis</th>\n",
       "      <th>evidences</th>\n",
       "      <th>label</th>\n",
       "    </tr>\n",
       "  </thead>\n",
       "  <tbody>\n",
       "    <tr>\n",
       "      <th>0</th>\n",
       "      <td>Women suffering from both claustrophobia and I...</td>\n",
       "      <td>[\"Exclusion Criteria:\", \"  History of bilatera...</td>\n",
       "      <td>Contradiction</td>\n",
       "    </tr>\n",
       "    <tr>\n",
       "      <th>1</th>\n",
       "      <td>There are no conditions on mental mental healt...</td>\n",
       "      <td>[\"Inclusion Criteria:\", \"  Women 18 years\", \" ...</td>\n",
       "      <td>Entailment</td>\n",
       "    </tr>\n",
       "    <tr>\n",
       "      <th>2</th>\n",
       "      <td>the secondary trial requires patients to be ov...</td>\n",
       "      <td>[\"Inclusion Criteria:\", \"  Patients presenting...</td>\n",
       "      <td>Entailment</td>\n",
       "    </tr>\n",
       "    <tr>\n",
       "      <th>3</th>\n",
       "      <td>Patients currently taking part in the secondar...</td>\n",
       "      <td>[\"  Participation in another clinical trial wi...</td>\n",
       "      <td>Entailment</td>\n",
       "    </tr>\n",
       "    <tr>\n",
       "      <th>4</th>\n",
       "      <td>HER2 + Patients in the primary trial receive t...</td>\n",
       "      <td>[\"INTERVENTION 1: \", \"  Trastuzumab\", \"  Parti...</td>\n",
       "      <td>Contradiction</td>\n",
       "    </tr>\n",
       "    <tr>\n",
       "      <th>...</th>\n",
       "      <td>...</td>\n",
       "      <td>...</td>\n",
       "      <td>...</td>\n",
       "    </tr>\n",
       "    <tr>\n",
       "      <th>495</th>\n",
       "      <td>alcoholic patients are excluded from the prima...</td>\n",
       "      <td>[\"  Be non-smokers (no nicotine use within the...</td>\n",
       "      <td>Contradiction</td>\n",
       "    </tr>\n",
       "    <tr>\n",
       "      <th>496</th>\n",
       "      <td>Patients with a histologically/cytologically c...</td>\n",
       "      <td>[\"  Non-small cell lung cancer\", \"  Small cell...</td>\n",
       "      <td>Entailment</td>\n",
       "    </tr>\n",
       "    <tr>\n",
       "      <th>497</th>\n",
       "      <td>the primary trial treats one of its patient co...</td>\n",
       "      <td>[\"INTERVENTION 1: \", \"  Pregabalin150\", \"  Pat...</td>\n",
       "      <td>Entailment</td>\n",
       "    </tr>\n",
       "    <tr>\n",
       "      <th>498</th>\n",
       "      <td>after a month of TAK-228 Plus Tamoxifen treatm...</td>\n",
       "      <td>[\"Outcome Measurement: \", \"  Ki67 Expression\",...</td>\n",
       "      <td>Contradiction</td>\n",
       "    </tr>\n",
       "    <tr>\n",
       "      <th>499</th>\n",
       "      <td>Patients with a history of severe anaphylactic...</td>\n",
       "      <td>[\"  History of grade 3 or 4 allergic reactions...</td>\n",
       "      <td>Contradiction</td>\n",
       "    </tr>\n",
       "  </tbody>\n",
       "</table>\n",
       "<p>500 rows × 3 columns</p>\n",
       "</div>"
      ],
      "text/plain": [
       "                                            hypothesis  \\\n",
       "0    Women suffering from both claustrophobia and I...   \n",
       "1    There are no conditions on mental mental healt...   \n",
       "2    the secondary trial requires patients to be ov...   \n",
       "3    Patients currently taking part in the secondar...   \n",
       "4    HER2 + Patients in the primary trial receive t...   \n",
       "..                                                 ...   \n",
       "495  alcoholic patients are excluded from the prima...   \n",
       "496  Patients with a histologically/cytologically c...   \n",
       "497  the primary trial treats one of its patient co...   \n",
       "498  after a month of TAK-228 Plus Tamoxifen treatm...   \n",
       "499  Patients with a history of severe anaphylactic...   \n",
       "\n",
       "                                             evidences          label  \n",
       "0    [\"Exclusion Criteria:\", \"  History of bilatera...  Contradiction  \n",
       "1    [\"Inclusion Criteria:\", \"  Women 18 years\", \" ...     Entailment  \n",
       "2    [\"Inclusion Criteria:\", \"  Patients presenting...     Entailment  \n",
       "3    [\"  Participation in another clinical trial wi...     Entailment  \n",
       "4    [\"INTERVENTION 1: \", \"  Trastuzumab\", \"  Parti...  Contradiction  \n",
       "..                                                 ...            ...  \n",
       "495  [\"  Be non-smokers (no nicotine use within the...  Contradiction  \n",
       "496  [\"  Non-small cell lung cancer\", \"  Small cell...     Entailment  \n",
       "497  [\"INTERVENTION 1: \", \"  Pregabalin150\", \"  Pat...     Entailment  \n",
       "498  [\"Outcome Measurement: \", \"  Ki67 Expression\",...  Contradiction  \n",
       "499  [\"  History of grade 3 or 4 allergic reactions...  Contradiction  \n",
       "\n",
       "[500 rows x 3 columns]"
      ]
     },
     "execution_count": 2,
     "metadata": {},
     "output_type": "execute_result"
    }
   ],
   "source": [
    "test_df=pd.read_csv('./output/test_hypothesis_evidences.csv')\n",
    "test_df"
   ]
  },
  {
   "cell_type": "code",
   "execution_count": null,
   "metadata": {},
   "outputs": [],
   "source": []
  },
  {
   "cell_type": "code",
   "execution_count": 3,
   "metadata": {},
   "outputs": [
    {
     "data": {
      "text/plain": [
       "500"
      ]
     },
     "execution_count": 3,
     "metadata": {},
     "output_type": "execute_result"
    }
   ],
   "source": [
    "hypothesis_lst=test_df['hypothesis'].values.tolist()\n",
    "len(hypothesis_lst)"
   ]
  },
  {
   "cell_type": "code",
   "execution_count": 4,
   "metadata": {},
   "outputs": [
    {
     "data": {
      "text/plain": [
       "500"
      ]
     },
     "execution_count": 4,
     "metadata": {},
     "output_type": "execute_result"
    }
   ],
   "source": [
    "evidence_lst=test_df['evidences'].apply(lambda l:' '.join(json.loads(l))).values.tolist()\n",
    "len(evidence_lst)"
   ]
  },
  {
   "cell_type": "code",
   "execution_count": 5,
   "metadata": {},
   "outputs": [
    {
     "data": {
      "text/plain": [
       "500"
      ]
     },
     "execution_count": 5,
     "metadata": {},
     "output_type": "execute_result"
    }
   ],
   "source": [
    "label2id={\"Contradiction\":0,\"Entailment\":1}\n",
    "label_lst=test_df['label'].apply(lambda x:label2id[x]).values.tolist()\n",
    "len(label_lst)"
   ]
  },
  {
   "cell_type": "code",
   "execution_count": null,
   "metadata": {},
   "outputs": [],
   "source": []
  },
  {
   "cell_type": "code",
   "execution_count": null,
   "metadata": {},
   "outputs": [],
   "source": []
  },
  {
   "cell_type": "code",
   "execution_count": 6,
   "metadata": {},
   "outputs": [],
   "source": [
    "import json\n",
    "with open('output/all_evidences.json','r') as f:\n",
    "    all_evidences = json.load(f)\n",
    "evidence2id=dict([(all_evidences[i],i) for i in range(len(all_evidences))])\n",
    "\n",
    "from nltk.tokenize import word_tokenize\n",
    "tokenized_corpus = [word_tokenize(doc) for doc in all_evidences]\n",
    "\n",
    "from rank_bm25 import BM25Okapi\n",
    "bm25 = BM25Okapi(tokenized_corpus)"
   ]
  },
  {
   "cell_type": "code",
   "execution_count": null,
   "metadata": {},
   "outputs": [],
   "source": []
  },
  {
   "cell_type": "code",
   "execution_count": 7,
   "metadata": {},
   "outputs": [],
   "source": [
    "import numpy as np\n",
    "scores=[]\n",
    "for hypothesis,evidences in test_df[['hypothesis','evidences']].values:\n",
    "    doc_scores = bm25.get_scores(word_tokenize(hypothesis))\n",
    "    doc_scores = (doc_scores-np.min(doc_scores))/(np.max(doc_scores)-np.min(doc_scores))\n",
    "    scores.append(np.mean([doc_scores[evidence2id[evi]] for evi in json.loads(evidences)]))\n",
    "# scores"
   ]
  },
  {
   "cell_type": "code",
   "execution_count": null,
   "metadata": {},
   "outputs": [],
   "source": []
  },
  {
   "cell_type": "code",
   "execution_count": 8,
   "metadata": {},
   "outputs": [
    {
     "data": {
      "text/html": [
       "<div>\n",
       "<style scoped>\n",
       "    .dataframe tbody tr th:only-of-type {\n",
       "        vertical-align: middle;\n",
       "    }\n",
       "\n",
       "    .dataframe tbody tr th {\n",
       "        vertical-align: top;\n",
       "    }\n",
       "\n",
       "    .dataframe thead th {\n",
       "        text-align: right;\n",
       "    }\n",
       "</style>\n",
       "<table border=\"1\" class=\"dataframe\">\n",
       "  <thead>\n",
       "    <tr style=\"text-align: right;\">\n",
       "      <th></th>\n",
       "      <th>threshold</th>\n",
       "      <th>AVG_PREC</th>\n",
       "      <th>F1</th>\n",
       "      <th>PREC</th>\n",
       "      <th>REC</th>\n",
       "      <th>ACC</th>\n",
       "    </tr>\n",
       "  </thead>\n",
       "  <tbody>\n",
       "    <tr>\n",
       "      <th>0</th>\n",
       "      <td>0.0</td>\n",
       "      <td>0.486008</td>\n",
       "      <td>0.622093</td>\n",
       "      <td>0.488584</td>\n",
       "      <td>0.856</td>\n",
       "      <td>0.480</td>\n",
       "    </tr>\n",
       "    <tr>\n",
       "      <th>1</th>\n",
       "      <td>0.1</td>\n",
       "      <td>0.486008</td>\n",
       "      <td>0.506518</td>\n",
       "      <td>0.473868</td>\n",
       "      <td>0.544</td>\n",
       "      <td>0.470</td>\n",
       "    </tr>\n",
       "    <tr>\n",
       "      <th>2</th>\n",
       "      <td>0.2</td>\n",
       "      <td>0.486008</td>\n",
       "      <td>0.397129</td>\n",
       "      <td>0.494048</td>\n",
       "      <td>0.332</td>\n",
       "      <td>0.496</td>\n",
       "    </tr>\n",
       "    <tr>\n",
       "      <th>3</th>\n",
       "      <td>0.3</td>\n",
       "      <td>0.486008</td>\n",
       "      <td>0.261128</td>\n",
       "      <td>0.505747</td>\n",
       "      <td>0.176</td>\n",
       "      <td>0.502</td>\n",
       "    </tr>\n",
       "    <tr>\n",
       "      <th>4</th>\n",
       "      <td>0.4</td>\n",
       "      <td>0.486008</td>\n",
       "      <td>0.103448</td>\n",
       "      <td>0.375000</td>\n",
       "      <td>0.060</td>\n",
       "      <td>0.480</td>\n",
       "    </tr>\n",
       "    <tr>\n",
       "      <th>5</th>\n",
       "      <td>0.5</td>\n",
       "      <td>0.486008</td>\n",
       "      <td>0.066667</td>\n",
       "      <td>0.450000</td>\n",
       "      <td>0.036</td>\n",
       "      <td>0.496</td>\n",
       "    </tr>\n",
       "    <tr>\n",
       "      <th>6</th>\n",
       "      <td>0.6</td>\n",
       "      <td>0.486008</td>\n",
       "      <td>0.053640</td>\n",
       "      <td>0.636364</td>\n",
       "      <td>0.028</td>\n",
       "      <td>0.506</td>\n",
       "    </tr>\n",
       "    <tr>\n",
       "      <th>7</th>\n",
       "      <td>0.7</td>\n",
       "      <td>0.486008</td>\n",
       "      <td>0.023529</td>\n",
       "      <td>0.600000</td>\n",
       "      <td>0.012</td>\n",
       "      <td>0.502</td>\n",
       "    </tr>\n",
       "    <tr>\n",
       "      <th>8</th>\n",
       "      <td>0.8</td>\n",
       "      <td>0.486008</td>\n",
       "      <td>0.015810</td>\n",
       "      <td>0.666667</td>\n",
       "      <td>0.008</td>\n",
       "      <td>0.502</td>\n",
       "    </tr>\n",
       "    <tr>\n",
       "      <th>9</th>\n",
       "      <td>0.9</td>\n",
       "      <td>0.486008</td>\n",
       "      <td>0.015810</td>\n",
       "      <td>0.666667</td>\n",
       "      <td>0.008</td>\n",
       "      <td>0.502</td>\n",
       "    </tr>\n",
       "  </tbody>\n",
       "</table>\n",
       "</div>"
      ],
      "text/plain": [
       "   threshold  AVG_PREC        F1      PREC    REC    ACC\n",
       "0        0.0  0.486008  0.622093  0.488584  0.856  0.480\n",
       "1        0.1  0.486008  0.506518  0.473868  0.544  0.470\n",
       "2        0.2  0.486008  0.397129  0.494048  0.332  0.496\n",
       "3        0.3  0.486008  0.261128  0.505747  0.176  0.502\n",
       "4        0.4  0.486008  0.103448  0.375000  0.060  0.480\n",
       "5        0.5  0.486008  0.066667  0.450000  0.036  0.496\n",
       "6        0.6  0.486008  0.053640  0.636364  0.028  0.506\n",
       "7        0.7  0.486008  0.023529  0.600000  0.012  0.502\n",
       "8        0.8  0.486008  0.015810  0.666667  0.008  0.502\n",
       "9        0.9  0.486008  0.015810  0.666667  0.008  0.502"
      ]
     },
     "execution_count": 8,
     "metadata": {},
     "output_type": "execute_result"
    }
   ],
   "source": [
    "from sklearn.metrics import average_precision_score,f1_score,precision_score,recall_score,accuracy_score\n",
    "\n",
    "y_true=label_lst\n",
    "results=[]\n",
    "for thre in np.arange(0.0, 1.0, 0.1):\n",
    "    y_prob=scores\n",
    "    y_pred=[1 if a>thre else 0 for a in y_prob]\n",
    "    results.append([\n",
    "        thre,\n",
    "        average_precision_score(y_true,y_prob),\n",
    "        f1_score(y_true,y_pred),\n",
    "        precision_score(y_true,y_pred),\n",
    "        recall_score(y_true,y_pred),\n",
    "        accuracy_score(y_true,y_pred)\n",
    "    ])\n",
    "\n",
    "import pandas as pd\n",
    "\n",
    "pd.DataFrame(results,columns=['threshold','AVG_PREC','F1','PREC','REC','ACC'])"
   ]
  },
  {
   "cell_type": "code",
   "execution_count": null,
   "metadata": {},
   "outputs": [],
   "source": []
  },
  {
   "cell_type": "code",
   "execution_count": null,
   "metadata": {},
   "outputs": [],
   "source": []
  }
 ],
 "metadata": {
  "kernelspec": {
   "display_name": "Python 3",
   "language": "python",
   "name": "python3"
  },
  "language_info": {
   "codemirror_mode": {
    "name": "ipython",
    "version": 3
   },
   "file_extension": ".py",
   "mimetype": "text/x-python",
   "name": "python",
   "nbconvert_exporter": "python",
   "pygments_lexer": "ipython3",
   "version": "3.8.5"
  }
 },
 "nbformat": 4,
 "nbformat_minor": 5
}
