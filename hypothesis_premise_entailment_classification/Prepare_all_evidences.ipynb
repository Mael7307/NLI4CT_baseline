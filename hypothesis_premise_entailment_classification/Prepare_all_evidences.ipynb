{
 "cells": [
  {
   "cell_type": "code",
   "execution_count": 1,
   "metadata": {},
   "outputs": [],
   "source": [
    "from os import listdir\n",
    "from os.path import isfile, join\n",
    "import json"
   ]
  },
  {
   "cell_type": "code",
   "execution_count": 2,
   "metadata": {},
   "outputs": [
    {
     "data": {
      "text/plain": [
       "61838"
      ]
     },
     "execution_count": 2,
     "metadata": {},
     "output_type": "execute_result"
    }
   ],
   "source": [
    "evidences=[]\n",
    "mypath='../data/Training_data/CT json/'\n",
    "for p in [p for p in listdir(mypath) if isfile(join(mypath, p))]:\n",
    "    if p.endswith('.json'):\n",
    "        with open(join(mypath,p),'r') as f:\n",
    "            content=json.load(f)\n",
    "            evidences+=[\n",
    "                s\n",
    "                for k in content if k!='Clinical Trial ID'\n",
    "                for s in content[k]\n",
    "            ]\n",
    "len(evidences)"
   ]
  },
  {
   "cell_type": "code",
   "execution_count": 3,
   "metadata": {},
   "outputs": [
    {
     "data": {
      "text/plain": [
       "44089"
      ]
     },
     "execution_count": 3,
     "metadata": {},
     "output_type": "execute_result"
    }
   ],
   "source": [
    "evidences=list(set(evidences))\n",
    "len(evidences)"
   ]
  },
  {
   "cell_type": "code",
   "execution_count": 4,
   "metadata": {},
   "outputs": [],
   "source": [
    "with open('output/all_evidences.json','w') as w:\n",
    "    json.dump(evidences,w)"
   ]
  }
 ],
 "metadata": {
  "kernelspec": {
   "display_name": "Python 3",
   "language": "python",
   "name": "python3"
  },
  "language_info": {
   "codemirror_mode": {
    "name": "ipython",
    "version": 3
   },
   "file_extension": ".py",
   "mimetype": "text/x-python",
   "name": "python",
   "nbconvert_exporter": "python",
   "pygments_lexer": "ipython3",
   "version": "3.8.5"
  }
 },
 "nbformat": 4,
 "nbformat_minor": 4
}
