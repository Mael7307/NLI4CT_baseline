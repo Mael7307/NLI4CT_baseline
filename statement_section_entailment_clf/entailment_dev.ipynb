{
 "cells": [
  {
   "cell_type": "code",
   "execution_count": 1,
   "id": "d6d54f89-71ed-4d69-990b-1f3512a982b0",
   "metadata": {},
   "outputs": [],
   "source": [
    "import pandas as pd\n",
    "import numpy as np\n",
    "import json"
   ]
  },
  {
   "cell_type": "code",
   "execution_count": 2,
   "id": "d9639aeb-4ac3-4c82-8821-e67fac34de57",
   "metadata": {},
   "outputs": [
    {
     "data": {
      "text/html": [
       "<div>\n",
       "<style scoped>\n",
       "    .dataframe tbody tr th:only-of-type {\n",
       "        vertical-align: middle;\n",
       "    }\n",
       "\n",
       "    .dataframe tbody tr th {\n",
       "        vertical-align: top;\n",
       "    }\n",
       "\n",
       "    .dataframe thead th {\n",
       "        text-align: right;\n",
       "    }\n",
       "</style>\n",
       "<table border=\"1\" class=\"dataframe\">\n",
       "  <thead>\n",
       "    <tr style=\"text-align: right;\">\n",
       "      <th></th>\n",
       "      <th>statement</th>\n",
       "      <th>section</th>\n",
       "      <th>label</th>\n",
       "    </tr>\n",
       "  </thead>\n",
       "  <tbody>\n",
       "    <tr>\n",
       "      <th>0</th>\n",
       "      <td>there is a 13.2% difference between the result...</td>\n",
       "      <td>[\"Outcome Measurement:\", \"Event-free Survival\"...</td>\n",
       "      <td>Contradiction</td>\n",
       "    </tr>\n",
       "    <tr>\n",
       "      <th>1</th>\n",
       "      <td>Patients with significantly elevated ejection ...</td>\n",
       "      <td>[\"Inclusion criteria:\", \"Inclusion Criteria:\",...</td>\n",
       "      <td>Contradiction</td>\n",
       "    </tr>\n",
       "    <tr>\n",
       "      <th>2</th>\n",
       "      <td>a significant number of the participants in th...</td>\n",
       "      <td>[\"Adverse Events 1:\", \"Total: 20/167 (11.98%)\"...</td>\n",
       "      <td>Contradiction</td>\n",
       "    </tr>\n",
       "    <tr>\n",
       "      <th>3</th>\n",
       "      <td>the primary trial does not report the PFS or o...</td>\n",
       "      <td>[\"Outcome Measurement:\", \"Local Control Using ...</td>\n",
       "      <td>Entailment</td>\n",
       "    </tr>\n",
       "    <tr>\n",
       "      <th>4</th>\n",
       "      <td>Prior treatment with fulvestrant or with a pho...</td>\n",
       "      <td>[\"Inclusion Criteria:\", \"Postmenopausal women ...</td>\n",
       "      <td>Contradiction</td>\n",
       "    </tr>\n",
       "    <tr>\n",
       "      <th>...</th>\n",
       "      <td>...</td>\n",
       "      <td>...</td>\n",
       "      <td>...</td>\n",
       "    </tr>\n",
       "    <tr>\n",
       "      <th>195</th>\n",
       "      <td>The the primary trial intervention involves on...</td>\n",
       "      <td>[\"INTERVENTION 1:\", \"Letrozole\", \"Participants...</td>\n",
       "      <td>Contradiction</td>\n",
       "    </tr>\n",
       "    <tr>\n",
       "      <th>196</th>\n",
       "      <td>the secondary trial reported 1 single case of ...</td>\n",
       "      <td>[\"Adverse Events 1:\", \"Total: 16/48 (33.33%)\",...</td>\n",
       "      <td>Entailment</td>\n",
       "    </tr>\n",
       "    <tr>\n",
       "      <th>197</th>\n",
       "      <td>the secondary trial and the primary trial do n...</td>\n",
       "      <td>[\"Outcome Measurement:\", \"Number of Patients W...</td>\n",
       "      <td>Entailment</td>\n",
       "    </tr>\n",
       "    <tr>\n",
       "      <th>198</th>\n",
       "      <td>the outcome measurement of the primary trial i...</td>\n",
       "      <td>[\"Outcome Measurement:\", \"Progression-free Sur...</td>\n",
       "      <td>Entailment</td>\n",
       "    </tr>\n",
       "    <tr>\n",
       "      <th>199</th>\n",
       "      <td>All the primary trial patients had a minimum o...</td>\n",
       "      <td>[\"Outcome Measurement:\", \"Complete Response + ...</td>\n",
       "      <td>Contradiction</td>\n",
       "    </tr>\n",
       "  </tbody>\n",
       "</table>\n",
       "<p>200 rows × 3 columns</p>\n",
       "</div>"
      ],
      "text/plain": [
       "                                             statement  \\\n",
       "0    there is a 13.2% difference between the result...   \n",
       "1    Patients with significantly elevated ejection ...   \n",
       "2    a significant number of the participants in th...   \n",
       "3    the primary trial does not report the PFS or o...   \n",
       "4    Prior treatment with fulvestrant or with a pho...   \n",
       "..                                                 ...   \n",
       "195  The the primary trial intervention involves on...   \n",
       "196  the secondary trial reported 1 single case of ...   \n",
       "197  the secondary trial and the primary trial do n...   \n",
       "198  the outcome measurement of the primary trial i...   \n",
       "199  All the primary trial patients had a minimum o...   \n",
       "\n",
       "                                               section          label  \n",
       "0    [\"Outcome Measurement:\", \"Event-free Survival\"...  Contradiction  \n",
       "1    [\"Inclusion criteria:\", \"Inclusion Criteria:\",...  Contradiction  \n",
       "2    [\"Adverse Events 1:\", \"Total: 20/167 (11.98%)\"...  Contradiction  \n",
       "3    [\"Outcome Measurement:\", \"Local Control Using ...     Entailment  \n",
       "4    [\"Inclusion Criteria:\", \"Postmenopausal women ...  Contradiction  \n",
       "..                                                 ...            ...  \n",
       "195  [\"INTERVENTION 1:\", \"Letrozole\", \"Participants...  Contradiction  \n",
       "196  [\"Adverse Events 1:\", \"Total: 16/48 (33.33%)\",...     Entailment  \n",
       "197  [\"Outcome Measurement:\", \"Number of Patients W...     Entailment  \n",
       "198  [\"Outcome Measurement:\", \"Progression-free Sur...     Entailment  \n",
       "199  [\"Outcome Measurement:\", \"Complete Response + ...  Contradiction  \n",
       "\n",
       "[200 rows x 3 columns]"
      ]
     },
     "execution_count": 2,
     "metadata": {},
     "output_type": "execute_result"
    }
   ],
   "source": [
    "dev_df=pd.read_csv('./output/dev_statement_section.csv')\n",
    "dev_df"
   ]
  },
  {
   "cell_type": "code",
   "execution_count": null,
   "id": "212df86b-c0f6-4965-bca5-ad4966cf78e2",
   "metadata": {},
   "outputs": [],
   "source": []
  },
  {
   "cell_type": "code",
   "execution_count": 3,
   "id": "b5d8b363-c68c-4562-bb3d-8770d7c8f418",
   "metadata": {},
   "outputs": [
    {
     "data": {
      "text/plain": [
       "200"
      ]
     },
     "execution_count": 3,
     "metadata": {},
     "output_type": "execute_result"
    }
   ],
   "source": [
    "hypothesis_lst=dev_df['statement'].values.tolist()\n",
    "len(hypothesis_lst)"
   ]
  },
  {
   "cell_type": "code",
   "execution_count": 4,
   "id": "8efe8157-ae5d-41c2-834b-27b33b160b32",
   "metadata": {},
   "outputs": [
    {
     "data": {
      "text/plain": [
       "200"
      ]
     },
     "execution_count": 4,
     "metadata": {},
     "output_type": "execute_result"
    }
   ],
   "source": [
    "evidence_lst=dev_df['section'].apply(lambda l:' '.join(json.loads(l))).values.tolist()\n",
    "len(evidence_lst)"
   ]
  },
  {
   "cell_type": "code",
   "execution_count": 5,
   "id": "8414a700-6dce-4600-bf9e-348083904d78",
   "metadata": {},
   "outputs": [
    {
     "data": {
      "text/plain": [
       "200"
      ]
     },
     "execution_count": 5,
     "metadata": {},
     "output_type": "execute_result"
    }
   ],
   "source": [
    "label2id={\"Contradiction\":0,\"Entailment\":1}\n",
    "label_lst=dev_df['label'].apply(lambda x:label2id[x]).values.tolist()\n",
    "len(label_lst)"
   ]
  },
  {
   "cell_type": "code",
   "execution_count": null,
   "id": "3cc36c52-1423-46cf-a7ca-2e024248c536",
   "metadata": {},
   "outputs": [],
   "source": []
  },
  {
   "cell_type": "code",
   "execution_count": 6,
   "id": "5b616df7-cc19-42fe-8d96-21a98ebe369a",
   "metadata": {},
   "outputs": [],
   "source": [
    "import random\n",
    "import math\n",
    "import numpy as np\n",
    "\n",
    "import torch\n",
    "import torch.nn as nn\n",
    "import torch.nn.functional as F\n",
    "\n",
    "from transformers import AutoTokenizer, AutoModelForSequenceClassification"
   ]
  },
  {
   "cell_type": "code",
   "execution_count": 7,
   "id": "55163bb8-916d-474d-a970-418a7415fea5",
   "metadata": {},
   "outputs": [
    {
     "name": "stderr",
     "output_type": "stream",
     "text": [
      "Some weights of BertForSequenceClassification were not initialized from the model checkpoint at dmis-lab/biobert-v1.1 and are newly initialized: ['classifier.bias', 'classifier.weight']\n",
      "You should probably TRAIN this model on a down-stream task to be able to use it for predictions and inference.\n"
     ]
    }
   ],
   "source": [
    "# text_tok=AutoTokenizer.from_pretrained('bert-base-uncased')\n",
    "# text_clf=AutoModelForSequenceClassification.from_pretrained('bert-base-uncased',num_labels=2)\n",
    "#roberta-base\n",
    "# text_tok=AutoTokenizer.from_pretrained('roberta-base')\n",
    "# text_clf=AutoModelForSequenceClassification.from_pretrained('roberta-base',num_labels=2)\n",
    "#bio-bert\n",
    "text_tok=AutoTokenizer.from_pretrained('dmis-lab/biobert-v1.1')\n",
    "text_clf=AutoModelForSequenceClassification.from_pretrained('dmis-lab/biobert-v1.1',num_labels=2)"
   ]
  },
  {
   "cell_type": "code",
   "execution_count": null,
   "id": "73236413-f29a-4f46-b22e-2fd86a9232e7",
   "metadata": {},
   "outputs": [],
   "source": []
  },
  {
   "cell_type": "code",
   "execution_count": 8,
   "id": "975670e9-455c-4dd2-87b3-59b53c19514f",
   "metadata": {},
   "outputs": [],
   "source": [
    "class InputSequence:\n",
    "    \n",
    "    def __init__(self,tok,l_text,l_text2,l_label,batch_size=64,gpu=True):\n",
    "        \n",
    "        self.data_len=len(l_text)\n",
    "        self.data_idx=[i for i in range(self.data_len)]\n",
    "        self.texts=tok(l_text,l_text2,padding=True, truncation=True, max_length=512, return_tensors='pt')\n",
    "        self.l_label=np.array(l_label)\n",
    "        print('tokenize done')\n",
    "        \n",
    "        self.batch_size=batch_size\n",
    "        self.gpu=gpu\n",
    "        \n",
    "    def on_epoch_end(self):\n",
    "        random.shuffle(self.data_idx)\n",
    "        \n",
    "    def __getitem__(self,i):\n",
    "        start=i*self.batch_size\n",
    "        batch_idx=self.data_idx[start:min(start+self.batch_size,self.data_len)]\n",
    "        \n",
    "        return_texts=dict([(k,self.texts[k][batch_idx]) for k in self.texts])\n",
    "        return_labels=torch.from_numpy(\n",
    "            self.l_label[batch_idx].astype(np.int64)\n",
    "        )\n",
    "        \n",
    "        if self.gpu:\n",
    "            return_texts=dict([(k,return_texts[k].cuda()) for k in return_texts])\n",
    "            return_labels=return_labels.cuda()\n",
    "        \n",
    "        return return_texts,return_labels\n",
    "    \n",
    "    def __len__(self):\n",
    "        return math.ceil(1.0*self.data_len/self.batch_size)\n",
    "    "
   ]
  },
  {
   "cell_type": "code",
   "execution_count": null,
   "id": "e900de28-95f2-4e4b-8a54-cbc530d83edd",
   "metadata": {},
   "outputs": [],
   "source": []
  },
  {
   "cell_type": "code",
   "execution_count": 9,
   "id": "8d69c714-4ee8-4189-8236-644d83ad93ce",
   "metadata": {},
   "outputs": [
    {
     "name": "stdout",
     "output_type": "stream",
     "text": [
      "tokenize done\n"
     ]
    }
   ],
   "source": [
    "testing_data=InputSequence(text_tok,hypothesis_lst,evidence_lst,label_lst,gpu=True)"
   ]
  },
  {
   "cell_type": "code",
   "execution_count": 10,
   "id": "84262558-9f7d-40f1-b67d-ad91ddf809da",
   "metadata": {},
   "outputs": [
    {
     "name": "stderr",
     "output_type": "stream",
     "text": [
      "Some weights of BertForSequenceClassification were not initialized from the model checkpoint at dmis-lab/biobert-v1.1 and are newly initialized: ['classifier.bias', 'classifier.weight']\n",
      "You should probably TRAIN this model on a down-stream task to be able to use it for predictions and inference.\n"
     ]
    },
    {
     "name": "stdout",
     "output_type": "stream",
     "text": [
      "model: ./output/clf_models/biobert-v1.1_epoch_00009.pt batch: 3\r"
     ]
    }
   ],
   "source": [
    "scores=[]\n",
    "# model_names=['bert-base-uncased']+[\n",
    "#     './output/clf_models/bert-base-uncased_epoch_{}.pt'.format(format(epoch,'05d'))\n",
    "#     for epoch in range(10)\n",
    "# ]\n",
    "#roberta-base\n",
    "# model_names=['roberta-base']+[\n",
    "#     './output/clf_models/roberta-base_epoch_{}.pt'.format(format(epoch,'05d'))\n",
    "#     for epoch in range(10)\n",
    "# ]\n",
    "#biobert\n",
    "model_names=['dmis-lab/biobert-v1.1']+[\n",
    "    './output/clf_models/biobert-v1.1_epoch_{}.pt'.format(format(epoch,'05d'))\n",
    "    for epoch in range(10)\n",
    "]\n",
    "for model_name in model_names:\n",
    "    scores.append([])\n",
    "    clf=AutoModelForSequenceClassification.from_pretrained(model_name).cuda()\n",
    "    with torch.no_grad():\n",
    "        for batch in range(len(testing_data)):\n",
    "            batch_texts,batch_labels=testing_data[batch]\n",
    "            scores[-1].append(F.softmax(clf(**batch_texts).logits,dim=1).detach().cpu().numpy())\n",
    "            print('model:',model_name,'batch:',batch,end='\\r')\n",
    "    scores[-1]=np.concatenate(scores[-1],axis=0)\n",
    "    clf.cpu()"
   ]
  },
  {
   "cell_type": "code",
   "execution_count": 11,
   "id": "e35e51be-bc41-4165-9499-f813c31d65bc",
   "metadata": {},
   "outputs": [
    {
     "data": {
      "text/html": [
       "<div>\n",
       "<style scoped>\n",
       "    .dataframe tbody tr th:only-of-type {\n",
       "        vertical-align: middle;\n",
       "    }\n",
       "\n",
       "    .dataframe tbody tr th {\n",
       "        vertical-align: top;\n",
       "    }\n",
       "\n",
       "    .dataframe thead th {\n",
       "        text-align: right;\n",
       "    }\n",
       "</style>\n",
       "<table border=\"1\" class=\"dataframe\">\n",
       "  <thead>\n",
       "    <tr style=\"text-align: right;\">\n",
       "      <th></th>\n",
       "      <th>epoch</th>\n",
       "      <th>AVG_PREC</th>\n",
       "      <th>F1</th>\n",
       "      <th>PREC</th>\n",
       "      <th>REC</th>\n",
       "      <th>ACC</th>\n",
       "    </tr>\n",
       "  </thead>\n",
       "  <tbody>\n",
       "    <tr>\n",
       "      <th>0</th>\n",
       "      <td>pretrained</td>\n",
       "      <td>0.514704</td>\n",
       "      <td>0.381503</td>\n",
       "      <td>0.452055</td>\n",
       "      <td>0.33</td>\n",
       "      <td>0.465</td>\n",
       "    </tr>\n",
       "    <tr>\n",
       "      <th>1</th>\n",
       "      <td>1</td>\n",
       "      <td>0.562197</td>\n",
       "      <td>0.304348</td>\n",
       "      <td>0.552632</td>\n",
       "      <td>0.21</td>\n",
       "      <td>0.520</td>\n",
       "    </tr>\n",
       "    <tr>\n",
       "      <th>2</th>\n",
       "      <td>2</td>\n",
       "      <td>0.580273</td>\n",
       "      <td>0.642857</td>\n",
       "      <td>0.532895</td>\n",
       "      <td>0.81</td>\n",
       "      <td>0.550</td>\n",
       "    </tr>\n",
       "    <tr>\n",
       "      <th>3</th>\n",
       "      <td>3</td>\n",
       "      <td>0.631090</td>\n",
       "      <td>0.643478</td>\n",
       "      <td>0.569231</td>\n",
       "      <td>0.74</td>\n",
       "      <td>0.590</td>\n",
       "    </tr>\n",
       "    <tr>\n",
       "      <th>4</th>\n",
       "      <td>4</td>\n",
       "      <td>0.644141</td>\n",
       "      <td>0.468354</td>\n",
       "      <td>0.637931</td>\n",
       "      <td>0.37</td>\n",
       "      <td>0.580</td>\n",
       "    </tr>\n",
       "    <tr>\n",
       "      <th>5</th>\n",
       "      <td>5</td>\n",
       "      <td>0.664473</td>\n",
       "      <td>0.416667</td>\n",
       "      <td>0.681818</td>\n",
       "      <td>0.30</td>\n",
       "      <td>0.580</td>\n",
       "    </tr>\n",
       "    <tr>\n",
       "      <th>6</th>\n",
       "      <td>6</td>\n",
       "      <td>0.672043</td>\n",
       "      <td>0.655172</td>\n",
       "      <td>0.575758</td>\n",
       "      <td>0.76</td>\n",
       "      <td>0.600</td>\n",
       "    </tr>\n",
       "    <tr>\n",
       "      <th>7</th>\n",
       "      <td>7</td>\n",
       "      <td>0.690460</td>\n",
       "      <td>0.602151</td>\n",
       "      <td>0.651163</td>\n",
       "      <td>0.56</td>\n",
       "      <td>0.630</td>\n",
       "    </tr>\n",
       "    <tr>\n",
       "      <th>8</th>\n",
       "      <td>8</td>\n",
       "      <td>0.689781</td>\n",
       "      <td>0.669903</td>\n",
       "      <td>0.650943</td>\n",
       "      <td>0.69</td>\n",
       "      <td>0.660</td>\n",
       "    </tr>\n",
       "    <tr>\n",
       "      <th>9</th>\n",
       "      <td>9</td>\n",
       "      <td>0.678180</td>\n",
       "      <td>0.653659</td>\n",
       "      <td>0.638095</td>\n",
       "      <td>0.67</td>\n",
       "      <td>0.645</td>\n",
       "    </tr>\n",
       "    <tr>\n",
       "      <th>10</th>\n",
       "      <td>10</td>\n",
       "      <td>0.697232</td>\n",
       "      <td>0.663462</td>\n",
       "      <td>0.638889</td>\n",
       "      <td>0.69</td>\n",
       "      <td>0.650</td>\n",
       "    </tr>\n",
       "  </tbody>\n",
       "</table>\n",
       "</div>"
      ],
      "text/plain": [
       "         epoch  AVG_PREC        F1      PREC   REC    ACC\n",
       "0   pretrained  0.514704  0.381503  0.452055  0.33  0.465\n",
       "1            1  0.562197  0.304348  0.552632  0.21  0.520\n",
       "2            2  0.580273  0.642857  0.532895  0.81  0.550\n",
       "3            3  0.631090  0.643478  0.569231  0.74  0.590\n",
       "4            4  0.644141  0.468354  0.637931  0.37  0.580\n",
       "5            5  0.664473  0.416667  0.681818  0.30  0.580\n",
       "6            6  0.672043  0.655172  0.575758  0.76  0.600\n",
       "7            7  0.690460  0.602151  0.651163  0.56  0.630\n",
       "8            8  0.689781  0.669903  0.650943  0.69  0.660\n",
       "9            9  0.678180  0.653659  0.638095  0.67  0.645\n",
       "10          10  0.697232  0.663462  0.638889  0.69  0.650"
      ]
     },
     "execution_count": 11,
     "metadata": {},
     "output_type": "execute_result"
    }
   ],
   "source": [
    "from sklearn.metrics import average_precision_score,f1_score,precision_score,recall_score,accuracy_score\n",
    "\n",
    "y_true=label_lst\n",
    "results=[]\n",
    "for epoch in range(len(scores)):\n",
    "    y_prob=scores[epoch][:,1]\n",
    "    y_pred=[1 if a>0.5 else 0 for a in y_prob]\n",
    "    results.append([\n",
    "        'pretrained' if epoch==0 else epoch,\n",
    "        average_precision_score(y_true,y_prob),\n",
    "        f1_score(y_true,y_pred),\n",
    "        precision_score(y_true,y_pred),\n",
    "        recall_score(y_true,y_pred),\n",
    "        accuracy_score(y_true,y_pred)\n",
    "    ])\n",
    "\n",
    "import pandas as pd\n",
    "\n",
    "pd.DataFrame(results,columns=['epoch','AVG_PREC','F1','PREC','REC','ACC'])"
   ]
  },
  {
   "cell_type": "code",
   "execution_count": null,
   "id": "2c8265fd-2878-420e-866f-6761190fba30",
   "metadata": {},
   "outputs": [],
   "source": []
  }
 ],
 "metadata": {
  "kernelspec": {
   "display_name": "Python 3 (ipykernel)",
   "language": "python",
   "name": "python3"
  },
  "language_info": {
   "codemirror_mode": {
    "name": "ipython",
    "version": 3
   },
   "file_extension": ".py",
   "mimetype": "text/x-python",
   "name": "python",
   "nbconvert_exporter": "python",
   "pygments_lexer": "ipython3",
   "version": "3.9.7"
  }
 },
 "nbformat": 4,
 "nbformat_minor": 5
}
