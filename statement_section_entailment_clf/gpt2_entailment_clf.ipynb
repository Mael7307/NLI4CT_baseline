{
 "cells": [
  {
   "cell_type": "code",
   "execution_count": 1,
   "metadata": {},
   "outputs": [],
   "source": [
    "import pandas as pd\n",
    "import numpy as np\n",
    "import json"
   ]
  },
  {
   "cell_type": "code",
   "execution_count": 2,
   "metadata": {},
   "outputs": [
    {
     "data": {
      "text/html": [
       "<div>\n",
       "<style scoped>\n",
       "    .dataframe tbody tr th:only-of-type {\n",
       "        vertical-align: middle;\n",
       "    }\n",
       "\n",
       "    .dataframe tbody tr th {\n",
       "        vertical-align: top;\n",
       "    }\n",
       "\n",
       "    .dataframe thead th {\n",
       "        text-align: right;\n",
       "    }\n",
       "</style>\n",
       "<table border=\"1\" class=\"dataframe\">\n",
       "  <thead>\n",
       "    <tr style=\"text-align: right;\">\n",
       "      <th></th>\n",
       "      <th>statement</th>\n",
       "      <th>section</th>\n",
       "      <th>label</th>\n",
       "    </tr>\n",
       "  </thead>\n",
       "  <tbody>\n",
       "    <tr>\n",
       "      <th>0</th>\n",
       "      <td>All the primary trial participants do not rece...</td>\n",
       "      <td>[\"INTERVENTION 1:\", \"Diagnostic (FLT PET)\", \"P...</td>\n",
       "      <td>Contradiction</td>\n",
       "    </tr>\n",
       "    <tr>\n",
       "      <th>1</th>\n",
       "      <td>Patients with Platelet count over 100,000/mm¬¨...</td>\n",
       "      <td>[\"DISEASE CHARACTERISTICS:\", \"Histologically o...</td>\n",
       "      <td>Contradiction</td>\n",
       "    </tr>\n",
       "    <tr>\n",
       "      <th>2</th>\n",
       "      <td>Heart-related adverse events were recorded in ...</td>\n",
       "      <td>[\"Adverse Events 1:\", \"Total: 5/32 (15.63%)\", ...</td>\n",
       "      <td>Entailment</td>\n",
       "    </tr>\n",
       "    <tr>\n",
       "      <th>3</th>\n",
       "      <td>Adult Patients with histologic confirmation of...</td>\n",
       "      <td>[\"Inclusion Criteria:\", \"Patients with histolo...</td>\n",
       "      <td>Contradiction</td>\n",
       "    </tr>\n",
       "    <tr>\n",
       "      <th>4</th>\n",
       "      <td>Laser Therapy is in each cohort of the primary...</td>\n",
       "      <td>[\"INTERVENTION 1:\", \"Laser Therapy Alone\", \"th...</td>\n",
       "      <td>Contradiction</td>\n",
       "    </tr>\n",
       "    <tr>\n",
       "      <th>...</th>\n",
       "      <td>...</td>\n",
       "      <td>...</td>\n",
       "      <td>...</td>\n",
       "    </tr>\n",
       "    <tr>\n",
       "      <th>1695</th>\n",
       "      <td>Adequate blood, kidney, and hepatic function a...</td>\n",
       "      <td>[\"Inclusion Criteria:\", \"Postmenopausal women,...</td>\n",
       "      <td>Entailment</td>\n",
       "    </tr>\n",
       "    <tr>\n",
       "      <th>1696</th>\n",
       "      <td>The Ridaforolimus + Dalotuzumab + Exemestane g...</td>\n",
       "      <td>[\"Outcome Measurement:\", \"1. Progression-free ...</td>\n",
       "      <td>Contradiction</td>\n",
       "    </tr>\n",
       "    <tr>\n",
       "      <th>1697</th>\n",
       "      <td>The only difference between the interventions ...</td>\n",
       "      <td>[\"INTERVENTION 1:\", \"Prone\", \"Prone position\",...</td>\n",
       "      <td>Entailment</td>\n",
       "    </tr>\n",
       "    <tr>\n",
       "      <th>1698</th>\n",
       "      <td>Patients must have a white blood cell count ab...</td>\n",
       "      <td>[\"DISEASE CHARACTERISTICS:\", \"Histologically c...</td>\n",
       "      <td>Entailment</td>\n",
       "    </tr>\n",
       "    <tr>\n",
       "      <th>1699</th>\n",
       "      <td>the primary trial and the secondary trial both...</td>\n",
       "      <td>[\"Outcome Measurement:\", \"Central Nervous Syst...</td>\n",
       "      <td>Contradiction</td>\n",
       "    </tr>\n",
       "  </tbody>\n",
       "</table>\n",
       "<p>1700 rows × 3 columns</p>\n",
       "</div>"
      ],
      "text/plain": [
       "                                              statement  \\\n",
       "0     All the primary trial participants do not rece...   \n",
       "1     Patients with Platelet count over 100,000/mm¬¨...   \n",
       "2     Heart-related adverse events were recorded in ...   \n",
       "3     Adult Patients with histologic confirmation of...   \n",
       "4     Laser Therapy is in each cohort of the primary...   \n",
       "...                                                 ...   \n",
       "1695  Adequate blood, kidney, and hepatic function a...   \n",
       "1696  The Ridaforolimus + Dalotuzumab + Exemestane g...   \n",
       "1697  The only difference between the interventions ...   \n",
       "1698  Patients must have a white blood cell count ab...   \n",
       "1699  the primary trial and the secondary trial both...   \n",
       "\n",
       "                                                section          label  \n",
       "0     [\"INTERVENTION 1:\", \"Diagnostic (FLT PET)\", \"P...  Contradiction  \n",
       "1     [\"DISEASE CHARACTERISTICS:\", \"Histologically o...  Contradiction  \n",
       "2     [\"Adverse Events 1:\", \"Total: 5/32 (15.63%)\", ...     Entailment  \n",
       "3     [\"Inclusion Criteria:\", \"Patients with histolo...  Contradiction  \n",
       "4     [\"INTERVENTION 1:\", \"Laser Therapy Alone\", \"th...  Contradiction  \n",
       "...                                                 ...            ...  \n",
       "1695  [\"Inclusion Criteria:\", \"Postmenopausal women,...     Entailment  \n",
       "1696  [\"Outcome Measurement:\", \"1. Progression-free ...  Contradiction  \n",
       "1697  [\"INTERVENTION 1:\", \"Prone\", \"Prone position\",...     Entailment  \n",
       "1698  [\"DISEASE CHARACTERISTICS:\", \"Histologically c...     Entailment  \n",
       "1699  [\"Outcome Measurement:\", \"Central Nervous Syst...  Contradiction  \n",
       "\n",
       "[1700 rows x 3 columns]"
      ]
     },
     "execution_count": 2,
     "metadata": {},
     "output_type": "execute_result"
    }
   ],
   "source": [
    "train_df=pd.read_csv('./output/train_statement_section.csv')\n",
    "train_df"
   ]
  },
  {
   "cell_type": "code",
   "execution_count": 3,
   "metadata": {},
   "outputs": [
    {
     "data": {
      "text/plain": [
       "1700"
      ]
     },
     "execution_count": 3,
     "metadata": {},
     "output_type": "execute_result"
    }
   ],
   "source": [
    "hypothesis_lst=train_df['statement'].values.tolist()\n",
    "len(hypothesis_lst)"
   ]
  },
  {
   "cell_type": "code",
   "execution_count": 4,
   "metadata": {},
   "outputs": [
    {
     "data": {
      "text/plain": [
       "1700"
      ]
     },
     "execution_count": 4,
     "metadata": {},
     "output_type": "execute_result"
    }
   ],
   "source": [
    "evidence_lst=train_df['section'].apply(lambda l:' '.join(json.loads(l))).values.tolist()\n",
    "len(evidence_lst)"
   ]
  },
  {
   "cell_type": "code",
   "execution_count": 5,
   "metadata": {},
   "outputs": [
    {
     "data": {
      "text/plain": [
       "1700"
      ]
     },
     "execution_count": 5,
     "metadata": {},
     "output_type": "execute_result"
    }
   ],
   "source": [
    "label2id={\"Contradiction\":0,\"Entailment\":1}\n",
    "label_lst=train_df['label'].apply(lambda x:label2id[x]).values.tolist()\n",
    "len(label_lst)"
   ]
  },
  {
   "cell_type": "code",
   "execution_count": null,
   "metadata": {},
   "outputs": [],
   "source": []
  },
  {
   "cell_type": "code",
   "execution_count": null,
   "metadata": {},
   "outputs": [],
   "source": []
  },
  {
   "cell_type": "code",
   "execution_count": null,
   "metadata": {},
   "outputs": [],
   "source": []
  },
  {
   "cell_type": "code",
   "execution_count": 6,
   "metadata": {},
   "outputs": [],
   "source": [
    "class InputSequence:\n",
    "    \n",
    "    def __init__(self,tok,l_text,l_text2,l_label,batch_size=64,gpu=True):\n",
    "        \n",
    "        self.data_len=len(l_text)\n",
    "        self.data_idx=[i for i in range(self.data_len)]\n",
    "        self.texts=tok(l_text,l_text2,padding=True, truncation=True, max_length=512, return_tensors='pt')\n",
    "        self.l_label=np.array(l_label)\n",
    "        print('tokenize done')\n",
    "        \n",
    "        self.batch_size=batch_size\n",
    "        self.gpu=gpu\n",
    "        \n",
    "    def on_epoch_end(self):\n",
    "        random.shuffle(self.data_idx)\n",
    "        \n",
    "    def __getitem__(self,i):\n",
    "        start=i*self.batch_size\n",
    "        batch_idx=self.data_idx[start:min(start+self.batch_size,self.data_len)]\n",
    "        \n",
    "        return_texts=dict([(k,self.texts[k][batch_idx]) for k in self.texts])\n",
    "        return_labels=torch.from_numpy(\n",
    "            self.l_label[batch_idx].astype(np.int64)\n",
    "        )\n",
    "        \n",
    "        if self.gpu:\n",
    "            return_texts=dict([(k,return_texts[k].cuda()) for k in return_texts])\n",
    "            return_labels=return_labels.cuda()\n",
    "        \n",
    "        return return_texts,return_labels\n",
    "    \n",
    "    def __len__(self):\n",
    "        return math.ceil(1.0*self.data_len/self.batch_size)\n",
    "    "
   ]
  },
  {
   "cell_type": "code",
   "execution_count": 7,
   "metadata": {},
   "outputs": [],
   "source": [
    "import random\n",
    "import math\n",
    "import numpy as np\n",
    "\n",
    "import torch\n",
    "import torch.nn as nn\n",
    "import torch.nn.functional as F\n",
    "\n",
    "from transformers import AutoTokenizer, AutoModelForSequenceClassification"
   ]
  },
  {
   "cell_type": "code",
   "execution_count": 8,
   "metadata": {},
   "outputs": [
    {
     "data": {
      "application/vnd.jupyter.widget-view+json": {
       "model_id": "a994ffa7276d4beb919c7e3a93d5a0a5",
       "version_major": 2,
       "version_minor": 0
      },
      "text/plain": [
       "Downloading:   0%|          | 0.00/665 [00:00<?, ?B/s]"
      ]
     },
     "metadata": {},
     "output_type": "display_data"
    },
    {
     "data": {
      "application/vnd.jupyter.widget-view+json": {
       "model_id": "8e5b79858bda4c0e915187992b35b566",
       "version_major": 2,
       "version_minor": 0
      },
      "text/plain": [
       "Downloading:   0%|          | 0.00/1.04M [00:00<?, ?B/s]"
      ]
     },
     "metadata": {},
     "output_type": "display_data"
    },
    {
     "data": {
      "application/vnd.jupyter.widget-view+json": {
       "model_id": "071ea123ee624d30a1b740bed73bfe3b",
       "version_major": 2,
       "version_minor": 0
      },
      "text/plain": [
       "Downloading:   0%|          | 0.00/456k [00:00<?, ?B/s]"
      ]
     },
     "metadata": {},
     "output_type": "display_data"
    },
    {
     "data": {
      "application/vnd.jupyter.widget-view+json": {
       "model_id": "f9c70817dfd84cbea92e3144a65f1c96",
       "version_major": 2,
       "version_minor": 0
      },
      "text/plain": [
       "Downloading:   0%|          | 0.00/1.36M [00:00<?, ?B/s]"
      ]
     },
     "metadata": {},
     "output_type": "display_data"
    },
    {
     "data": {
      "application/vnd.jupyter.widget-view+json": {
       "model_id": "767c16c35f4f485b80210080fe2caa81",
       "version_major": 2,
       "version_minor": 0
      },
      "text/plain": [
       "Downloading:   0%|          | 0.00/548M [00:00<?, ?B/s]"
      ]
     },
     "metadata": {},
     "output_type": "display_data"
    },
    {
     "name": "stderr",
     "output_type": "stream",
     "text": [
      "Some weights of GPT2ForSequenceClassification were not initialized from the model checkpoint at gpt2 and are newly initialized: ['score.weight']\n",
      "You should probably TRAIN this model on a down-stream task to be able to use it for predictions and inference.\n"
     ]
    }
   ],
   "source": [
    "# text_tok=AutoTokenizer.from_pretrained('bert-base-uncased')\n",
    "# text_clf=AutoModelForSequenceClassification.from_pretrained('bert-base-uncased',num_labels=2)\n",
    "#roberta-base\n",
    "# text_tok=AutoTokenizer.from_pretrained('roberta-base')\n",
    "# text_clf=AutoModelForSequenceClassification.from_pretrained('roberta-base',num_labels=2)\n",
    "#bio-bert\n",
    "# text_tok=AutoTokenizer.from_pretrained('dmis-lab/biobert-v1.1')\n",
    "# text_clf=AutoModelForSequenceClassification.from_pretrained('dmis-lab/biobert-v1.1',num_labels=2)\n",
    "#gpt2\n",
    "text_tok=AutoTokenizer.from_pretrained('gpt2')\n",
    "text_tok.pad_token = text_tok.eos_token\n",
    "text_clf=AutoModelForSequenceClassification.from_pretrained('gpt2',num_labels=2,pad_token_id=text_tok.eos_token_id)"
   ]
  },
  {
   "cell_type": "code",
   "execution_count": null,
   "metadata": {},
   "outputs": [],
   "source": []
  },
  {
   "cell_type": "code",
   "execution_count": 9,
   "metadata": {},
   "outputs": [
    {
     "name": "stdout",
     "output_type": "stream",
     "text": [
      "tokenize done\n"
     ]
    },
    {
     "data": {
      "text/plain": [
       "27"
      ]
     },
     "execution_count": 9,
     "metadata": {},
     "output_type": "execute_result"
    }
   ],
   "source": [
    "training_data=InputSequence(text_tok,hypothesis_lst,evidence_lst,label_lst,gpu=True)\n",
    "len(training_data)"
   ]
  },
  {
   "cell_type": "code",
   "execution_count": null,
   "metadata": {},
   "outputs": [],
   "source": []
  },
  {
   "cell_type": "code",
   "execution_count": 10,
   "metadata": {},
   "outputs": [],
   "source": [
    "class Model(nn.Module):\n",
    "    def __init__(self,clf):\n",
    "        super(Model, self).__init__()\n",
    "        self.clf=clf\n",
    "        self.loss=nn.CrossEntropyLoss()\n",
    "    \n",
    "    def forward(self, texts, labels, gpu=True):\n",
    "        \n",
    "        loss=self.loss(self.clf(**texts).logits, labels)\n",
    "        \n",
    "        return loss"
   ]
  },
  {
   "cell_type": "code",
   "execution_count": 11,
   "metadata": {},
   "outputs": [],
   "source": [
    "model=Model(text_clf)"
   ]
  },
  {
   "cell_type": "code",
   "execution_count": null,
   "metadata": {},
   "outputs": [],
   "source": []
  },
  {
   "cell_type": "code",
   "execution_count": 12,
   "metadata": {},
   "outputs": [
    {
     "name": "stdout",
     "output_type": "stream",
     "text": [
      "epoch: 0 batch: 0 loss: 1.413132667541504\n",
      "epoch: 0 batch: 53 loss: 0.6633244752883911\n",
      "epoch: 1 batch: 0 loss: 0.83060222864151\n",
      "epoch: 1 batch: 53 loss: 0.7140386104583742\n",
      "epoch: 2 batch: 0 loss: 0.7725493907928467\n",
      "epoch: 2 batch: 53 loss: 0.7311930656433105\n",
      "epoch: 3 batch: 0 loss: 0.6922292709350586\n",
      "epoch: 3 batch: 53 loss: 0.6828634738922119\n",
      "epoch: 4 batch: 0 loss: 0.6861127614974976\n",
      "epoch: 4 batch: 53 loss: 0.6452769041061401\n",
      "epoch: 5 batch: 0 loss: 0.6842851042747498\n",
      "epoch: 5 batch: 53 loss: 1.1891412734985352\n",
      "epoch: 6 batch: 0 loss: 0.7201260328292847\n",
      "epoch: 6 batch: 53 loss: 0.6768920421600342\n",
      "epoch: 7 batch: 0 loss: 0.616806149482727\n",
      "epoch: 7 batch: 53 loss: 0.7037891745567322\n",
      "epoch: 8 batch: 0 loss: 0.6432011127471924\n",
      "epoch: 8 batch: 53 loss: 0.8998979330062866\n",
      "epoch: 9 batch: 0 loss: 0.6324125528335571\n",
      "epoch: 9 batch: 53 loss: 0.6205656528472989\n"
     ]
    }
   ],
   "source": [
    "bat_s=32\n",
    "l_rate=1e-5\n",
    "\n",
    "training_data.batch_size=bat_s\n",
    "\n",
    "model.cuda()\n",
    "optimizer = torch.optim.Adam(model.parameters(), lr=l_rate)\n",
    "total_epoch_num=10\n",
    "for epoch in range(total_epoch_num):\n",
    "    training_data.on_epoch_end()\n",
    "    loss_sum=0.0\n",
    "    loss_count=0\n",
    "    for batch in range(len(training_data)):\n",
    "        optimizer.zero_grad()\n",
    "        batch_texts,batch_labels=training_data[batch]\n",
    "        loss_count+=len(batch_texts['input_ids'])\n",
    "        loss = model(\n",
    "            batch_texts,batch_labels\n",
    "        )\n",
    "        print('epoch:',epoch,'batch:',batch,'loss:',loss.item(),end='\\n' if batch==0 or batch+1==len(training_data) or (batch+1)%1000==0 else '\\r')\n",
    "        loss_sum += 1.0*loss.item()*len(batch_texts['input_ids'])\n",
    "        loss.backward()\n",
    "        optimizer.step()\n",
    "    # model.clf.save_pretrained('./output/clf_models/bert-base-uncased_epoch_{}.pt'.format(format(epoch,'05d')))\n",
    "    #roberta-base\n",
    "    # model.clf.save_pretrained('./output/clf_models/roberta-base_epoch_{}.pt'.format(format(epoch,'05d')))\n",
    "    #bio-bert\n",
    "    # model.clf.save_pretrained('./output/clf_models/biobert-v1.1_epoch_{}.pt'.format(format(epoch,'05d')))\n",
    "    #gpt2\n",
    "    model.clf.save_pretrained('./output/clf_models/gpt2_epoch_{}.pt'.format(format(epoch,'05d')))\n",
    "_=model.cpu()"
   ]
  }
 ],
 "metadata": {
  "kernelspec": {
   "display_name": "Python 3 (ipykernel)",
   "language": "python",
   "name": "python3"
  },
  "language_info": {
   "codemirror_mode": {
    "name": "ipython",
    "version": 3
   },
   "file_extension": ".py",
   "mimetype": "text/x-python",
   "name": "python",
   "nbconvert_exporter": "python",
   "pygments_lexer": "ipython3",
   "version": "3.9.7"
  }
 },
 "nbformat": 4,
 "nbformat_minor": 4
}
