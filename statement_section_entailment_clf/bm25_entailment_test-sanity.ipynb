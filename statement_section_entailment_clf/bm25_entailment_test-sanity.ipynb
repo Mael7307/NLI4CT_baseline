{
 "cells": [
  {
   "cell_type": "code",
   "execution_count": 1,
   "metadata": {},
   "outputs": [],
   "source": [
    "import pandas as pd\n",
    "import numpy as np\n",
    "import json"
   ]
  },
  {
   "cell_type": "code",
   "execution_count": 2,
   "metadata": {},
   "outputs": [
    {
     "data": {
      "text/html": [
       "<div>\n",
       "<style scoped>\n",
       "    .dataframe tbody tr th:only-of-type {\n",
       "        vertical-align: middle;\n",
       "    }\n",
       "\n",
       "    .dataframe tbody tr th {\n",
       "        vertical-align: top;\n",
       "    }\n",
       "\n",
       "    .dataframe thead th {\n",
       "        text-align: right;\n",
       "    }\n",
       "</style>\n",
       "<table border=\"1\" class=\"dataframe\">\n",
       "  <thead>\n",
       "    <tr style=\"text-align: right;\">\n",
       "      <th></th>\n",
       "      <th>statement</th>\n",
       "      <th>section</th>\n",
       "      <th>label</th>\n",
       "    </tr>\n",
       "  </thead>\n",
       "  <tbody>\n",
       "    <tr>\n",
       "      <th>0</th>\n",
       "      <td>All the primary trial participants do not rece...</td>\n",
       "      <td>[\"INTERVENTION 1:\", \"Diagnostic (FLT PET)\", \"P...</td>\n",
       "      <td>Contradiction</td>\n",
       "    </tr>\n",
       "    <tr>\n",
       "      <th>1</th>\n",
       "      <td>Patients with Platelet count over 100,000/mm¬¨...</td>\n",
       "      <td>[\"DISEASE CHARACTERISTICS:\", \"Histologically o...</td>\n",
       "      <td>Contradiction</td>\n",
       "    </tr>\n",
       "    <tr>\n",
       "      <th>2</th>\n",
       "      <td>Heart-related adverse events were recorded in ...</td>\n",
       "      <td>[\"Adverse Events 1:\", \"Total: 5/32 (15.63%)\", ...</td>\n",
       "      <td>Entailment</td>\n",
       "    </tr>\n",
       "    <tr>\n",
       "      <th>3</th>\n",
       "      <td>Adult Patients with histologic confirmation of...</td>\n",
       "      <td>[\"Inclusion Criteria:\", \"Patients with histolo...</td>\n",
       "      <td>Contradiction</td>\n",
       "    </tr>\n",
       "    <tr>\n",
       "      <th>4</th>\n",
       "      <td>Laser Therapy is in each cohort of the primary...</td>\n",
       "      <td>[\"INTERVENTION 1:\", \"Laser Therapy Alone\", \"th...</td>\n",
       "      <td>Contradiction</td>\n",
       "    </tr>\n",
       "    <tr>\n",
       "      <th>...</th>\n",
       "      <td>...</td>\n",
       "      <td>...</td>\n",
       "      <td>...</td>\n",
       "    </tr>\n",
       "    <tr>\n",
       "      <th>1695</th>\n",
       "      <td>Adequate blood, kidney, and hepatic function a...</td>\n",
       "      <td>[\"Inclusion Criteria:\", \"Postmenopausal women,...</td>\n",
       "      <td>Entailment</td>\n",
       "    </tr>\n",
       "    <tr>\n",
       "      <th>1696</th>\n",
       "      <td>The Ridaforolimus + Dalotuzumab + Exemestane g...</td>\n",
       "      <td>[\"Outcome Measurement:\", \"1. Progression-free ...</td>\n",
       "      <td>Contradiction</td>\n",
       "    </tr>\n",
       "    <tr>\n",
       "      <th>1697</th>\n",
       "      <td>The only difference between the interventions ...</td>\n",
       "      <td>[\"INTERVENTION 1:\", \"Prone\", \"Prone position\",...</td>\n",
       "      <td>Entailment</td>\n",
       "    </tr>\n",
       "    <tr>\n",
       "      <th>1698</th>\n",
       "      <td>Patients must have a white blood cell count ab...</td>\n",
       "      <td>[\"DISEASE CHARACTERISTICS:\", \"Histologically c...</td>\n",
       "      <td>Entailment</td>\n",
       "    </tr>\n",
       "    <tr>\n",
       "      <th>1699</th>\n",
       "      <td>the primary trial and the secondary trial both...</td>\n",
       "      <td>[\"Outcome Measurement:\", \"Central Nervous Syst...</td>\n",
       "      <td>Contradiction</td>\n",
       "    </tr>\n",
       "  </tbody>\n",
       "</table>\n",
       "<p>1700 rows × 3 columns</p>\n",
       "</div>"
      ],
      "text/plain": [
       "                                              statement  \\\n",
       "0     All the primary trial participants do not rece...   \n",
       "1     Patients with Platelet count over 100,000/mm¬¨...   \n",
       "2     Heart-related adverse events were recorded in ...   \n",
       "3     Adult Patients with histologic confirmation of...   \n",
       "4     Laser Therapy is in each cohort of the primary...   \n",
       "...                                                 ...   \n",
       "1695  Adequate blood, kidney, and hepatic function a...   \n",
       "1696  The Ridaforolimus + Dalotuzumab + Exemestane g...   \n",
       "1697  The only difference between the interventions ...   \n",
       "1698  Patients must have a white blood cell count ab...   \n",
       "1699  the primary trial and the secondary trial both...   \n",
       "\n",
       "                                                section          label  \n",
       "0     [\"INTERVENTION 1:\", \"Diagnostic (FLT PET)\", \"P...  Contradiction  \n",
       "1     [\"DISEASE CHARACTERISTICS:\", \"Histologically o...  Contradiction  \n",
       "2     [\"Adverse Events 1:\", \"Total: 5/32 (15.63%)\", ...     Entailment  \n",
       "3     [\"Inclusion Criteria:\", \"Patients with histolo...  Contradiction  \n",
       "4     [\"INTERVENTION 1:\", \"Laser Therapy Alone\", \"th...  Contradiction  \n",
       "...                                                 ...            ...  \n",
       "1695  [\"Inclusion Criteria:\", \"Postmenopausal women,...     Entailment  \n",
       "1696  [\"Outcome Measurement:\", \"1. Progression-free ...  Contradiction  \n",
       "1697  [\"INTERVENTION 1:\", \"Prone\", \"Prone position\",...     Entailment  \n",
       "1698  [\"DISEASE CHARACTERISTICS:\", \"Histologically c...     Entailment  \n",
       "1699  [\"Outcome Measurement:\", \"Central Nervous Syst...  Contradiction  \n",
       "\n",
       "[1700 rows x 3 columns]"
      ]
     },
     "execution_count": 2,
     "metadata": {},
     "output_type": "execute_result"
    }
   ],
   "source": [
    "test_df=pd.read_csv('./output/train_statement_section.csv')\n",
    "test_df"
   ]
  },
  {
   "cell_type": "code",
   "execution_count": null,
   "metadata": {},
   "outputs": [],
   "source": []
  },
  {
   "cell_type": "code",
   "execution_count": 3,
   "metadata": {},
   "outputs": [
    {
     "data": {
      "text/plain": [
       "1700"
      ]
     },
     "execution_count": 3,
     "metadata": {},
     "output_type": "execute_result"
    }
   ],
   "source": [
    "hypothesis_lst=test_df['statement'].values.tolist()\n",
    "len(hypothesis_lst)"
   ]
  },
  {
   "cell_type": "code",
   "execution_count": 4,
   "metadata": {},
   "outputs": [
    {
     "data": {
      "text/plain": [
       "1700"
      ]
     },
     "execution_count": 4,
     "metadata": {},
     "output_type": "execute_result"
    }
   ],
   "source": [
    "evidence_lst=test_df['section'].apply(lambda l:' '.join(json.loads(l))).values.tolist()\n",
    "len(evidence_lst)"
   ]
  },
  {
   "cell_type": "code",
   "execution_count": 5,
   "metadata": {},
   "outputs": [
    {
     "data": {
      "text/plain": [
       "1700"
      ]
     },
     "execution_count": 5,
     "metadata": {},
     "output_type": "execute_result"
    }
   ],
   "source": [
    "label2id={\"Contradiction\":0,\"Entailment\":1}\n",
    "label_lst=test_df['label'].apply(lambda x:label2id[x]).values.tolist()\n",
    "len(label_lst)"
   ]
  },
  {
   "cell_type": "code",
   "execution_count": null,
   "metadata": {},
   "outputs": [],
   "source": []
  },
  {
   "cell_type": "code",
   "execution_count": null,
   "metadata": {},
   "outputs": [],
   "source": []
  },
  {
   "cell_type": "code",
   "execution_count": 6,
   "metadata": {},
   "outputs": [],
   "source": [
    "import json\n",
    "with open('output/all_evidences.json','r') as f:\n",
    "    all_evidences = json.load(f)\n",
    "evidence2id=dict([(all_evidences[i],i) for i in range(len(all_evidences))])\n",
    "\n",
    "from nltk.tokenize import word_tokenize\n",
    "tokenized_corpus = [word_tokenize(doc) for doc in all_evidences]\n",
    "\n",
    "from rank_bm25 import BM25Okapi\n",
    "bm25 = BM25Okapi(tokenized_corpus)"
   ]
  },
  {
   "cell_type": "code",
   "execution_count": null,
   "metadata": {},
   "outputs": [],
   "source": []
  },
  {
   "cell_type": "code",
   "execution_count": 7,
   "metadata": {},
   "outputs": [],
   "source": [
    "import numpy as np\n",
    "scores=[]\n",
    "for hypothesis,evidences in test_df[['statement','section']].values:\n",
    "    doc_scores = bm25.get_scores(word_tokenize(hypothesis))\n",
    "    doc_scores = (doc_scores-np.min(doc_scores))/(np.max(doc_scores)-np.min(doc_scores))\n",
    "    scores.append(np.mean([doc_scores[evidence2id[evi]] for evi in json.loads(evidences)]))\n",
    "# scores"
   ]
  },
  {
   "cell_type": "code",
   "execution_count": null,
   "metadata": {},
   "outputs": [],
   "source": []
  },
  {
   "cell_type": "code",
   "execution_count": 8,
   "metadata": {},
   "outputs": [
    {
     "name": "stderr",
     "output_type": "stream",
     "text": [
      "/home/ai/anaconda3/lib/python3.8/site-packages/sklearn/metrics/_classification.py:1221: UndefinedMetricWarning: Precision is ill-defined and being set to 0.0 due to no predicted samples. Use `zero_division` parameter to control this behavior.\n",
      "  _warn_prf(average, modifier, msg_start, len(result))\n"
     ]
    },
    {
     "data": {
      "text/html": [
       "<div>\n",
       "<style scoped>\n",
       "    .dataframe tbody tr th:only-of-type {\n",
       "        vertical-align: middle;\n",
       "    }\n",
       "\n",
       "    .dataframe tbody tr th {\n",
       "        vertical-align: top;\n",
       "    }\n",
       "\n",
       "    .dataframe thead th {\n",
       "        text-align: right;\n",
       "    }\n",
       "</style>\n",
       "<table border=\"1\" class=\"dataframe\">\n",
       "  <thead>\n",
       "    <tr style=\"text-align: right;\">\n",
       "      <th></th>\n",
       "      <th>threshold</th>\n",
       "      <th>AVG_PREC</th>\n",
       "      <th>F1</th>\n",
       "      <th>PREC</th>\n",
       "      <th>REC</th>\n",
       "      <th>ACC</th>\n",
       "    </tr>\n",
       "  </thead>\n",
       "  <tbody>\n",
       "    <tr>\n",
       "      <th>0</th>\n",
       "      <td>0.0</td>\n",
       "      <td>0.489528</td>\n",
       "      <td>0.635452</td>\n",
       "      <td>0.492866</td>\n",
       "      <td>0.894118</td>\n",
       "      <td>0.487059</td>\n",
       "    </tr>\n",
       "    <tr>\n",
       "      <th>1</th>\n",
       "      <td>0.1</td>\n",
       "      <td>0.489528</td>\n",
       "      <td>0.469815</td>\n",
       "      <td>0.477521</td>\n",
       "      <td>0.462353</td>\n",
       "      <td>0.478235</td>\n",
       "    </tr>\n",
       "    <tr>\n",
       "      <th>2</th>\n",
       "      <td>0.2</td>\n",
       "      <td>0.489528</td>\n",
       "      <td>0.243556</td>\n",
       "      <td>0.498182</td>\n",
       "      <td>0.161176</td>\n",
       "      <td>0.499412</td>\n",
       "    </tr>\n",
       "    <tr>\n",
       "      <th>3</th>\n",
       "      <td>0.3</td>\n",
       "      <td>0.489528</td>\n",
       "      <td>0.095643</td>\n",
       "      <td>0.494505</td>\n",
       "      <td>0.052941</td>\n",
       "      <td>0.499412</td>\n",
       "    </tr>\n",
       "    <tr>\n",
       "      <th>4</th>\n",
       "      <td>0.4</td>\n",
       "      <td>0.489528</td>\n",
       "      <td>0.042649</td>\n",
       "      <td>0.463415</td>\n",
       "      <td>0.022353</td>\n",
       "      <td>0.498235</td>\n",
       "    </tr>\n",
       "    <tr>\n",
       "      <th>5</th>\n",
       "      <td>0.5</td>\n",
       "      <td>0.489528</td>\n",
       "      <td>0.013921</td>\n",
       "      <td>0.500000</td>\n",
       "      <td>0.007059</td>\n",
       "      <td>0.500000</td>\n",
       "    </tr>\n",
       "    <tr>\n",
       "      <th>6</th>\n",
       "      <td>0.6</td>\n",
       "      <td>0.489528</td>\n",
       "      <td>0.007001</td>\n",
       "      <td>0.428571</td>\n",
       "      <td>0.003529</td>\n",
       "      <td>0.499412</td>\n",
       "    </tr>\n",
       "    <tr>\n",
       "      <th>7</th>\n",
       "      <td>0.7</td>\n",
       "      <td>0.489528</td>\n",
       "      <td>0.000000</td>\n",
       "      <td>0.000000</td>\n",
       "      <td>0.000000</td>\n",
       "      <td>0.500000</td>\n",
       "    </tr>\n",
       "    <tr>\n",
       "      <th>8</th>\n",
       "      <td>0.8</td>\n",
       "      <td>0.489528</td>\n",
       "      <td>0.000000</td>\n",
       "      <td>0.000000</td>\n",
       "      <td>0.000000</td>\n",
       "      <td>0.500000</td>\n",
       "    </tr>\n",
       "    <tr>\n",
       "      <th>9</th>\n",
       "      <td>0.9</td>\n",
       "      <td>0.489528</td>\n",
       "      <td>0.000000</td>\n",
       "      <td>0.000000</td>\n",
       "      <td>0.000000</td>\n",
       "      <td>0.500000</td>\n",
       "    </tr>\n",
       "  </tbody>\n",
       "</table>\n",
       "</div>"
      ],
      "text/plain": [
       "   threshold  AVG_PREC        F1      PREC       REC       ACC\n",
       "0        0.0  0.489528  0.635452  0.492866  0.894118  0.487059\n",
       "1        0.1  0.489528  0.469815  0.477521  0.462353  0.478235\n",
       "2        0.2  0.489528  0.243556  0.498182  0.161176  0.499412\n",
       "3        0.3  0.489528  0.095643  0.494505  0.052941  0.499412\n",
       "4        0.4  0.489528  0.042649  0.463415  0.022353  0.498235\n",
       "5        0.5  0.489528  0.013921  0.500000  0.007059  0.500000\n",
       "6        0.6  0.489528  0.007001  0.428571  0.003529  0.499412\n",
       "7        0.7  0.489528  0.000000  0.000000  0.000000  0.500000\n",
       "8        0.8  0.489528  0.000000  0.000000  0.000000  0.500000\n",
       "9        0.9  0.489528  0.000000  0.000000  0.000000  0.500000"
      ]
     },
     "execution_count": 8,
     "metadata": {},
     "output_type": "execute_result"
    }
   ],
   "source": [
    "from sklearn.metrics import average_precision_score,f1_score,precision_score,recall_score,accuracy_score\n",
    "\n",
    "y_true=label_lst\n",
    "results=[]\n",
    "for thre in np.arange(0.0, 1.0, 0.1):\n",
    "    y_prob=scores\n",
    "    y_pred=[1 if a>thre else 0 for a in y_prob]\n",
    "    results.append([\n",
    "        thre,\n",
    "        average_precision_score(y_true,y_prob),\n",
    "        f1_score(y_true,y_pred),\n",
    "        precision_score(y_true,y_pred),\n",
    "        recall_score(y_true,y_pred),\n",
    "        accuracy_score(y_true,y_pred)\n",
    "    ])\n",
    "\n",
    "import pandas as pd\n",
    "\n",
    "pd.DataFrame(results,columns=['threshold','AVG_PREC','F1','PREC','REC','ACC'])"
   ]
  },
  {
   "cell_type": "code",
   "execution_count": null,
   "metadata": {},
   "outputs": [],
   "source": []
  },
  {
   "cell_type": "code",
   "execution_count": null,
   "metadata": {},
   "outputs": [],
   "source": []
  },
  {
   "cell_type": "code",
   "execution_count": null,
   "metadata": {},
   "outputs": [],
   "source": []
  }
 ],
 "metadata": {
  "kernelspec": {
   "display_name": "Python 3",
   "language": "python",
   "name": "python3"
  },
  "language_info": {
   "codemirror_mode": {
    "name": "ipython",
    "version": 3
   },
   "file_extension": ".py",
   "mimetype": "text/x-python",
   "name": "python",
   "nbconvert_exporter": "python",
   "pygments_lexer": "ipython3",
   "version": "3.8.5"
  }
 },
 "nbformat": 4,
 "nbformat_minor": 5
}
