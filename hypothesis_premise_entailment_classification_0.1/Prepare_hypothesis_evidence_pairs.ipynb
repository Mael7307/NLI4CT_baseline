{
 "cells": [
  {
   "cell_type": "code",
   "execution_count": 1,
   "metadata": {},
   "outputs": [],
   "source": [
    "import json\n",
    "from os.path import isfile\n",
    "\n",
    "hypothesis_evidence_lst=[]\n",
    "with open('../data/Training_data/train.json','r') as f:\n",
    "    train_json=json.load(f)\n",
    "    for k in train_json:\n",
    "        line=train_json[k]\n",
    "        if isfile('../data/Training_data/Clinical trial json/{}.json'.format(line['Primary_id'])):\n",
    "            premises=json.load(open('../data/Training_data/Clinical trial json/{}.json'.format(line['Primary_id'])))\n",
    "            hypothesis_evidence_lst.append([\n",
    "                line['Statement'],\n",
    "                json.dumps([premises[line['Section_id']][idx] for idx in line['Primary_evidence_index']]),\n",
    "                line['Label']\n",
    "            ])"
   ]
  },
  {
   "cell_type": "code",
   "execution_count": 2,
   "metadata": {},
   "outputs": [
    {
     "data": {
      "text/plain": [
       "1000"
      ]
     },
     "execution_count": 2,
     "metadata": {},
     "output_type": "execute_result"
    }
   ],
   "source": [
    "len(hypothesis_evidence_lst)"
   ]
  },
  {
   "cell_type": "code",
   "execution_count": 3,
   "metadata": {},
   "outputs": [
    {
     "data": {
      "text/plain": [
       "[['Patients in NCT02953860 receive more mg of Enzalutamide than Fulvestrant over the course of the study.',\n",
       "  '[\"  Fulvestrant with Enzalutamide: 500mg of Fulvestrant will be given IM on days 1, 15, 28, then every 4 weeks as per standard of care (SOC) and 160mg of Enzalutamide will be given PO daily. Patients will receive a tumor biopsy at the start of treatment and 4 weeks after the start of treatment, with an optional 3rd biopsy at the end treatment.\"]',\n",
       "  'Entailment'],\n",
       " ['Patients in NCT02953860 receive less mg of Enzalutamide than Fulvestrant on a weekly basis.',\n",
       "  '[\"  Fulvestrant with Enzalutamide: 500mg of Fulvestrant will be given IM on days 1, 15, 28, then every 4 weeks as per standard of care (SOC) and 160mg of Enzalutamide will be given PO daily. Patients will receive a tumor biopsy at the start of treatment and 4 weeks after the start of treatment, with an optional 3rd biopsy at the end treatment.\"]',\n",
       "  'Contradiction'],\n",
       " ['Patients in NCT01830933 do not receive any extra medication for the study, whereas in NCT01224678 they are given an oral medication.',\n",
       "  '[\"INTERVENTION 1: \", \"  Usual Care\", \"  Usual Care is the comparison Clinic Patients, where there is no change in their standard or usual care.\", \"INTERVENTION 2: \", \"  BreastCARE Intervention\", \"  Intervention Clinic Patients: The participants will answer questions on the tablet-PC to calculate their breast cancer risk.\", \"  Intervention Patient Report. Once the patient completes the BreastCare Computer survey, the program will immediately generate a personal feedback report containing information about her risk factors and recommendations to reduce her risk. This report will be printed and given to the patients before she meets with her doctor.\", \"  BreastCARE : The physician will receive a physician report that contains information similar to the patient report.\"]',\n",
       "  'Entailment']]"
      ]
     },
     "execution_count": 3,
     "metadata": {},
     "output_type": "execute_result"
    }
   ],
   "source": [
    "hypothesis_evidence_lst[:3]"
   ]
  },
  {
   "cell_type": "code",
   "execution_count": null,
   "metadata": {},
   "outputs": [],
   "source": []
  },
  {
   "cell_type": "code",
   "execution_count": 4,
   "metadata": {},
   "outputs": [
    {
     "data": {
      "text/html": [
       "<div>\n",
       "<style scoped>\n",
       "    .dataframe tbody tr th:only-of-type {\n",
       "        vertical-align: middle;\n",
       "    }\n",
       "\n",
       "    .dataframe tbody tr th {\n",
       "        vertical-align: top;\n",
       "    }\n",
       "\n",
       "    .dataframe thead th {\n",
       "        text-align: right;\n",
       "    }\n",
       "</style>\n",
       "<table border=\"1\" class=\"dataframe\">\n",
       "  <thead>\n",
       "    <tr style=\"text-align: right;\">\n",
       "      <th></th>\n",
       "      <th>hypothesis</th>\n",
       "      <th>evidences</th>\n",
       "      <th>label</th>\n",
       "    </tr>\n",
       "  </thead>\n",
       "  <tbody>\n",
       "    <tr>\n",
       "      <th>0</th>\n",
       "      <td>Patients in NCT02953860 receive more mg of Enz...</td>\n",
       "      <td>[\"  Fulvestrant with Enzalutamide: 500mg of Fu...</td>\n",
       "      <td>Entailment</td>\n",
       "    </tr>\n",
       "    <tr>\n",
       "      <th>1</th>\n",
       "      <td>Patients in NCT02953860 receive less mg of Enz...</td>\n",
       "      <td>[\"  Fulvestrant with Enzalutamide: 500mg of Fu...</td>\n",
       "      <td>Contradiction</td>\n",
       "    </tr>\n",
       "    <tr>\n",
       "      <th>2</th>\n",
       "      <td>Patients in NCT01830933 do not receive any ext...</td>\n",
       "      <td>[\"INTERVENTION 1: \", \"  Usual Care\", \"  Usual ...</td>\n",
       "      <td>Entailment</td>\n",
       "    </tr>\n",
       "    <tr>\n",
       "      <th>3</th>\n",
       "      <td>Patients in NCT01830933 and NCT01224678 are ad...</td>\n",
       "      <td>[\"INTERVENTION 1: \", \"  Usual Care\", \"  Usual ...</td>\n",
       "      <td>Contradiction</td>\n",
       "    </tr>\n",
       "    <tr>\n",
       "      <th>4</th>\n",
       "      <td>Intervention 2 of NCT01224678 resulted in a lo...</td>\n",
       "      <td>[\"Outcome Measurement: \", \"  Percent Change (B...</td>\n",
       "      <td>Entailment</td>\n",
       "    </tr>\n",
       "    <tr>\n",
       "      <th>...</th>\n",
       "      <td>...</td>\n",
       "      <td>...</td>\n",
       "      <td>...</td>\n",
       "    </tr>\n",
       "    <tr>\n",
       "      <th>995</th>\n",
       "      <td>participants from both cohorts of NCT00706030 ...</td>\n",
       "      <td>[\"Outcome Measurement: \", \"  Overall Response ...</td>\n",
       "      <td>Contradiction</td>\n",
       "    </tr>\n",
       "    <tr>\n",
       "      <th>996</th>\n",
       "      <td>Most patients in the Letrozole group of NCT001...</td>\n",
       "      <td>[\"Outcome Measurement: \", \"  Percent Change Fr...</td>\n",
       "      <td>Entailment</td>\n",
       "    </tr>\n",
       "    <tr>\n",
       "      <th>997</th>\n",
       "      <td>All patients in the Letrozole group of NCT0017...</td>\n",
       "      <td>[\"Outcome Measurement: \", \"  Percent Change Fr...</td>\n",
       "      <td>Contradiction</td>\n",
       "    </tr>\n",
       "    <tr>\n",
       "      <th>998</th>\n",
       "      <td>the percentage of participants achieving compl...</td>\n",
       "      <td>[\"Outcome Measurement: \", \"  CNS Objective Res...</td>\n",
       "      <td>Entailment</td>\n",
       "    </tr>\n",
       "    <tr>\n",
       "      <th>999</th>\n",
       "      <td>the percentage of participants achieving compl...</td>\n",
       "      <td>[\"Outcome Measurement: \", \"  CNS Objective Res...</td>\n",
       "      <td>Contradiction</td>\n",
       "    </tr>\n",
       "  </tbody>\n",
       "</table>\n",
       "<p>1000 rows × 3 columns</p>\n",
       "</div>"
      ],
      "text/plain": [
       "                                            hypothesis  \\\n",
       "0    Patients in NCT02953860 receive more mg of Enz...   \n",
       "1    Patients in NCT02953860 receive less mg of Enz...   \n",
       "2    Patients in NCT01830933 do not receive any ext...   \n",
       "3    Patients in NCT01830933 and NCT01224678 are ad...   \n",
       "4    Intervention 2 of NCT01224678 resulted in a lo...   \n",
       "..                                                 ...   \n",
       "995  participants from both cohorts of NCT00706030 ...   \n",
       "996  Most patients in the Letrozole group of NCT001...   \n",
       "997  All patients in the Letrozole group of NCT0017...   \n",
       "998  the percentage of participants achieving compl...   \n",
       "999  the percentage of participants achieving compl...   \n",
       "\n",
       "                                             evidences          label  \n",
       "0    [\"  Fulvestrant with Enzalutamide: 500mg of Fu...     Entailment  \n",
       "1    [\"  Fulvestrant with Enzalutamide: 500mg of Fu...  Contradiction  \n",
       "2    [\"INTERVENTION 1: \", \"  Usual Care\", \"  Usual ...     Entailment  \n",
       "3    [\"INTERVENTION 1: \", \"  Usual Care\", \"  Usual ...  Contradiction  \n",
       "4    [\"Outcome Measurement: \", \"  Percent Change (B...     Entailment  \n",
       "..                                                 ...            ...  \n",
       "995  [\"Outcome Measurement: \", \"  Overall Response ...  Contradiction  \n",
       "996  [\"Outcome Measurement: \", \"  Percent Change Fr...     Entailment  \n",
       "997  [\"Outcome Measurement: \", \"  Percent Change Fr...  Contradiction  \n",
       "998  [\"Outcome Measurement: \", \"  CNS Objective Res...     Entailment  \n",
       "999  [\"Outcome Measurement: \", \"  CNS Objective Res...  Contradiction  \n",
       "\n",
       "[1000 rows x 3 columns]"
      ]
     },
     "execution_count": 4,
     "metadata": {},
     "output_type": "execute_result"
    }
   ],
   "source": [
    "import pandas as pd\n",
    "\n",
    "hypothesis_evidence_df=pd.DataFrame(hypothesis_evidence_lst,columns=['hypothesis','evidences','label'])\n",
    "hypothesis_evidence_df"
   ]
  },
  {
   "cell_type": "code",
   "execution_count": 7,
   "metadata": {},
   "outputs": [
    {
     "data": {
      "text/plain": [
       "<AxesSubplot:xlabel='label', ylabel='Count'>"
      ]
     },
     "execution_count": 7,
     "metadata": {},
     "output_type": "execute_result"
    },
    {
     "data": {
      "image/png": "[encoded data removed]",
      "text/plain": [
       "<Figure size 432x288 with 1 Axes>"
      ]
     },
     "metadata": {
      "needs_background": "light"
     },
     "output_type": "display_data"
    }
   ],
   "source": [
    "import seaborn as sns\n",
    "\n",
    "sns.histplot(data=hypothesis_evidence_df, x=\"label\")"
   ]
  },
  {
   "cell_type": "code",
   "execution_count": 12,
   "metadata": {},
   "outputs": [
    {
     "data": {
      "text/plain": [
       "<AxesSubplot:>"
      ]
     },
     "execution_count": 12,
     "metadata": {},
     "output_type": "execute_result"
    },
    {
     "data": {
      "image/png": "[encoded data removed]",
      "text/plain": [
       "<Figure size 432x288 with 1 Axes>"
      ]
     },
     "metadata": {
      "needs_background": "light"
     },
     "output_type": "display_data"
    }
   ],
   "source": [
    "hypothesis_evidence_df.evidences.apply(lambda l:len(json.loads(l))).hist(bins=30)"
   ]
  },
  {
   "cell_type": "code",
   "execution_count": 13,
   "metadata": {},
   "outputs": [
    {
     "data": {
      "text/plain": [
       "<AxesSubplot:>"
      ]
     },
     "execution_count": 13,
     "metadata": {},
     "output_type": "execute_result"
    },
    {
     "data": {
      "image/png": "[encoded data removed]",
      "text/plain": [
       "<Figure size 432x288 with 1 Axes>"
      ]
     },
     "metadata": {
      "needs_background": "light"
     },
     "output_type": "display_data"
    }
   ],
   "source": [
    "hypothesis_evidence_df.evidences.apply(lambda l:len(' '.join(json.loads(l)).split(' '))).hist(bins=30)"
   ]
  },
  {
   "cell_type": "code",
   "execution_count": null,
   "metadata": {},
   "outputs": [],
   "source": []
  },
  {
   "cell_type": "code",
   "execution_count": 14,
   "metadata": {},
   "outputs": [],
   "source": [
    "hypothesis_evidence_df.to_csv('./output/hypothesis_evidences.csv',index=False)"
   ]
  },
  {
   "cell_type": "code",
   "execution_count": null,
   "metadata": {},
   "outputs": [],
   "source": []
  },
  {
   "cell_type": "code",
   "execution_count": null,
   "metadata": {},
   "outputs": [],
   "source": []
  },
  {
   "cell_type": "code",
   "execution_count": 15,
   "metadata": {},
   "outputs": [],
   "source": [
    "from sklearn.model_selection import train_test_split\n",
    "\n",
    "train_df,test_df=train_test_split(hypothesis_evidence_df,test_size=0.2)\n",
    "train_df,dev_df=train_test_split(train_df,test_size=0.1)"
   ]
  },
  {
   "cell_type": "code",
   "execution_count": 16,
   "metadata": {},
   "outputs": [
    {
     "data": {
      "text/plain": [
       "(720, 80, 200)"
      ]
     },
     "execution_count": 16,
     "metadata": {},
     "output_type": "execute_result"
    }
   ],
   "source": [
    "len(train_df),len(dev_df),len(test_df)"
   ]
  },
  {
   "cell_type": "code",
   "execution_count": 17,
   "metadata": {},
   "outputs": [
    {
     "data": {
      "text/plain": [
       "<AxesSubplot:xlabel='label', ylabel='Count'>"
      ]
     },
     "execution_count": 17,
     "metadata": {},
     "output_type": "execute_result"
    },
    {
     "data": {
      "image/png": "[encoded data removed]",
      "text/plain": [
       "<Figure size 432x288 with 1 Axes>"
      ]
     },
     "metadata": {
      "needs_background": "light"
     },
     "output_type": "display_data"
    }
   ],
   "source": [
    "sns.histplot(data=train_df, x=\"label\")"
   ]
  },
  {
   "cell_type": "code",
   "execution_count": 18,
   "metadata": {},
   "outputs": [
    {
     "data": {
      "text/plain": [
       "<AxesSubplot:xlabel='label', ylabel='Count'>"
      ]
     },
     "execution_count": 18,
     "metadata": {},
     "output_type": "execute_result"
    },
    {
     "data": {
      "image/png": "[encoded data removed]",
      "text/plain": [
       "<Figure size 432x288 with 1 Axes>"
      ]
     },
     "metadata": {
      "needs_background": "light"
     },
     "output_type": "display_data"
    }
   ],
   "source": [
    "sns.histplot(data=dev_df, x=\"label\")"
   ]
  },
  {
   "cell_type": "code",
   "execution_count": 19,
   "metadata": {},
   "outputs": [
    {
     "data": {
      "text/plain": [
       "<AxesSubplot:xlabel='label', ylabel='Count'>"
      ]
     },
     "execution_count": 19,
     "metadata": {},
     "output_type": "execute_result"
    },
    {
     "data": {
      "image/png": "[encoded data removed]",
      "text/plain": [
       "<Figure size 432x288 with 1 Axes>"
      ]
     },
     "metadata": {
      "needs_background": "light"
     },
     "output_type": "display_data"
    }
   ],
   "source": [
    "sns.histplot(data=test_df, x=\"label\")"
   ]
  },
  {
   "cell_type": "code",
   "execution_count": null,
   "metadata": {},
   "outputs": [],
   "source": []
  },
  {
   "cell_type": "code",
   "execution_count": 20,
   "metadata": {},
   "outputs": [],
   "source": [
    "train_df.to_csv('./output/train_hypothesis_evidences.csv',index=False)"
   ]
  },
  {
   "cell_type": "code",
   "execution_count": 21,
   "metadata": {},
   "outputs": [],
   "source": [
    "dev_df.to_csv('./output/dev_hypothesis_evidences.csv',index=False)"
   ]
  },
  {
   "cell_type": "code",
   "execution_count": 22,
   "metadata": {},
   "outputs": [],
   "source": [
    "test_df.to_csv('./output/test_hypothesis_evidences.csv',index=False)"
   ]
  },
  {
   "cell_type": "code",
   "execution_count": null,
   "metadata": {},
   "outputs": [],
   "source": []
  }
 ],
 "metadata": {
  "kernelspec": {
   "display_name": "Python 3",
   "language": "python",
   "name": "python3"
  },
  "language_info": {
   "codemirror_mode": {
    "name": "ipython",
    "version": 3
   },
   "file_extension": ".py",
   "mimetype": "text/x-python",
   "name": "python",
   "nbconvert_exporter": "python",
   "pygments_lexer": "ipython3",
   "version": "3.8.5"
  }
 },
 "nbformat": 4,
 "nbformat_minor": 4
}
